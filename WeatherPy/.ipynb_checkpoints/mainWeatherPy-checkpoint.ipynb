{
 "cells": [
  {
   "cell_type": "markdown",
   "metadata": {},
   "source": [
    "## mainWeatherPy\n",
    "\n",
    "#### Maria Barrera -- 02/07/2021\n",
    "\n",
    "Note: Observations are listed in the readme file."
   ]
  },
  {
   "cell_type": "code",
   "execution_count": 1,
   "metadata": {},
   "outputs": [
    {
     "name": "stdout",
     "output_type": "stream",
     "text": [
      "Requirement already satisfied: citipy in c:\\users\\mbarr\\anaconda3\\lib\\site-packages (0.0.5)\n",
      "Requirement already satisfied: kdtree>=0.12 in c:\\users\\mbarr\\anaconda3\\lib\\site-packages (from citipy) (0.16)\n",
      "Note: you may need to restart the kernel to use updated packages.\n"
     ]
    }
   ],
   "source": [
    "pip install citipy"
   ]
  },
  {
   "cell_type": "code",
   "execution_count": 2,
   "metadata": {
    "scrolled": true
   },
   "outputs": [],
   "source": [
    "# Dependencies and Setup\n",
    "import matplotlib.pyplot as plt\n",
    "import pandas as pd\n",
    "import numpy as np\n",
    "import requests\n",
    "import time\n",
    "\n",
    "import json\n",
    "\n",
    "from scipy.stats import linregress\n",
    "\n",
    "# Import API key\n",
    "from api_keys import weather_api_key\n",
    "\n",
    "# Incorporated citipy to determine city based on latitude and longitude\n",
    "from citipy import citipy\n",
    "\n",
    "# Output File (CSV)\n",
    "output_data_file = \"output_data/cities.csv\"\n",
    "\n",
    "# Range of latitudes and longitudes\n",
    "lat_range = (-90, 90)\n",
    "lng_range = (-180, 180)"
   ]
  },
  {
   "cell_type": "markdown",
   "metadata": {},
   "source": [
    "## Generate Cities List"
   ]
  },
  {
   "cell_type": "code",
   "execution_count": 3,
   "metadata": {},
   "outputs": [
    {
     "data": {
      "text/plain": [
       "629"
      ]
     },
     "execution_count": 3,
     "metadata": {},
     "output_type": "execute_result"
    }
   ],
   "source": [
    "# List for holding lat_lngs and cities\n",
    "lat_lngs = []\n",
    "cities = []\n",
    "\n",
    "# Create a set of random lat and lng combinations\n",
    "lats = np.random.uniform(lat_range[0], lat_range[1], size=1500)\n",
    "lngs = np.random.uniform(lng_range[0], lng_range[1], size=1500)\n",
    "lat_lngs = zip(lats, lngs)\n",
    "\n",
    "# Identify nearest city for each lat, lng combination\n",
    "for lat_lng in lat_lngs:\n",
    "    city = citipy.nearest_city(lat_lng[0], lat_lng[1]).city_name\n",
    "    \n",
    "    # If the city is unique, then add it to a our cities list\n",
    "    if city not in cities:\n",
    "        cities.append(city)\n",
    "\n",
    "# Print the city count to confirm sufficient count\n",
    "len(cities)"
   ]
  },
  {
   "cell_type": "code",
   "execution_count": 4,
   "metadata": {},
   "outputs": [
    {
     "data": {
      "text/plain": [
       "['dikson',\n",
       " 'rikitea',\n",
       " 'carnarvon',\n",
       " 'port alfred',\n",
       " 'ushuaia',\n",
       " 'saint george',\n",
       " 'innisfail',\n",
       " 'taolanaro',\n",
       " 'nikolskoye',\n",
       " 'coihaique',\n",
       " 'lorengau',\n",
       " 'bredasdorp',\n",
       " 'mahadday weyne',\n",
       " 'norman wells',\n",
       " 'vila velha',\n",
       " 'taiyuan',\n",
       " 'hasaki',\n",
       " 'saldanha',\n",
       " 'tasiilaq',\n",
       " 'antofagasta',\n",
       " 'san fernando',\n",
       " 'esperance',\n",
       " 'qurayyat',\n",
       " 'cape town',\n",
       " 'aguimes',\n",
       " 'bethel',\n",
       " 'mataura',\n",
       " 'sterling',\n",
       " 'hermanus',\n",
       " 'hambantota',\n",
       " 'atuona',\n",
       " 'castro',\n",
       " 'batagay',\n",
       " 'katsuura',\n",
       " 'gori',\n",
       " 'hobart',\n",
       " 'kodiak',\n",
       " 'punta arenas',\n",
       " 'balabac',\n",
       " 'marcona',\n",
       " 'georgetown',\n",
       " 'hilo',\n",
       " 'sao joao da barra',\n",
       " 'floro',\n",
       " 'yellowknife',\n",
       " 'matara',\n",
       " 'zwedru',\n",
       " 'bendigo',\n",
       " 'ribeira grande',\n",
       " 'east london',\n",
       " 'upernavik',\n",
       " 'pacific grove',\n",
       " 'xining',\n",
       " 'vaini',\n",
       " 'albany',\n",
       " 'longyearbyen',\n",
       " 'santiago',\n",
       " 'busselton',\n",
       " 'cayenne',\n",
       " 'kralendijk',\n",
       " 'khudumelapye',\n",
       " 'kushiro',\n",
       " 'lamu',\n",
       " 'ponta do sol',\n",
       " 'klaksvik',\n",
       " 'salalah',\n",
       " 'quchan',\n",
       " 'mbandaka',\n",
       " 'henties bay',\n",
       " 'moron',\n",
       " 'kembe',\n",
       " 'victoria',\n",
       " 'bani',\n",
       " 'andreapol',\n",
       " 'narsaq',\n",
       " 'barentsburg',\n",
       " 'cherskiy',\n",
       " 'roebourne',\n",
       " 'butaritari',\n",
       " 'santa cruz',\n",
       " 'hay river',\n",
       " 'qaanaaq',\n",
       " 'san patricio',\n",
       " 'marivan',\n",
       " 'bluff',\n",
       " 'belushya guba',\n",
       " 'hamilton',\n",
       " 'sovetskiy',\n",
       " 'husavik',\n",
       " 'san quintin',\n",
       " 'athabasca',\n",
       " 'heihe',\n",
       " 'nanortalik',\n",
       " 'whitehorse',\n",
       " 'lima',\n",
       " 'pailon',\n",
       " 'rocha',\n",
       " 'fredericksburg',\n",
       " 'hithadhoo',\n",
       " 'stornoway',\n",
       " 'meyungs',\n",
       " 'manta',\n",
       " 'kapaa',\n",
       " 'kembolcha',\n",
       " 'bambous virieux',\n",
       " 'korem',\n",
       " 'grindavik',\n",
       " 'mastic beach',\n",
       " 'benjamin constant',\n",
       " 'singapore',\n",
       " 'clyde river',\n",
       " 'arawa',\n",
       " 'mahebourg',\n",
       " 'tabiauea',\n",
       " 'illoqqortoormiut',\n",
       " 'santa maria',\n",
       " 'anadyr',\n",
       " 'kungurtug',\n",
       " 'ayan',\n",
       " 'mpika',\n",
       " 'segou',\n",
       " 'puerto ayora',\n",
       " 'rawlins',\n",
       " 'nago',\n",
       " 'halalo',\n",
       " 'nalut',\n",
       " 'caborca',\n",
       " 'manggar',\n",
       " 'ancud',\n",
       " 'souillac',\n",
       " 'luganville',\n",
       " 'vestmannaeyjar',\n",
       " 'dingle',\n",
       " 'meulaboh',\n",
       " 'kimbe',\n",
       " 'aconibe',\n",
       " 'portland',\n",
       " 'aldan',\n",
       " 'bahia honda',\n",
       " 'chase',\n",
       " 'nishihara',\n",
       " 'kiama',\n",
       " 'maralal',\n",
       " 'ulverstone',\n",
       " 'omboue',\n",
       " 'sadove',\n",
       " 'saleaula',\n",
       " 'luderitz',\n",
       " 'port elizabeth',\n",
       " 'prince rupert',\n",
       " 'nemuro',\n",
       " 'hualmay',\n",
       " 'rupert',\n",
       " 'yerbogachen',\n",
       " 'vaitupu',\n",
       " 'codrington',\n",
       " 'lebu',\n",
       " 'fortuna',\n",
       " 'totness',\n",
       " 'samarai',\n",
       " 'mareeba',\n",
       " 'riyadh',\n",
       " 'yulara',\n",
       " 'dunedin',\n",
       " 'new norfolk',\n",
       " 'mount isa',\n",
       " 'palabuhanratu',\n",
       " 'kaitangata',\n",
       " 'nazarovo',\n",
       " 'burica',\n",
       " 'tura',\n",
       " 'chapais',\n",
       " 'xinqing',\n",
       " 'phangnga',\n",
       " 'tacuati',\n",
       " 'richards bay',\n",
       " 'tuktoyaktuk',\n",
       " 'ouricuri',\n",
       " 'dapaong',\n",
       " 'pampas',\n",
       " 'omsukchan',\n",
       " 'mocuba',\n",
       " 'tabas',\n",
       " 'wawa',\n",
       " 'sentyabrskiy',\n",
       " 'cidreira',\n",
       " 'beawar',\n",
       " 'pisco',\n",
       " 'port blair',\n",
       " 'miraflores',\n",
       " 'parry sound',\n",
       " 'biak',\n",
       " 'yinchuan',\n",
       " 'tiksi',\n",
       " 'atambua',\n",
       " 'birjand',\n",
       " 'avarua',\n",
       " 'natulongan',\n",
       " 'batagay-alyta',\n",
       " 'varanasi',\n",
       " 'bubaque',\n",
       " 'natal',\n",
       " 'chokurdakh',\n",
       " 'caravelas',\n",
       " 'belmonte',\n",
       " 'gamba',\n",
       " 'westport',\n",
       " 'valparaiso',\n",
       " 'san jose el alto',\n",
       " 'saint-philippe',\n",
       " 'toliary',\n",
       " 'khatanga',\n",
       " 'kahului',\n",
       " 'storforshei',\n",
       " 'sawtell',\n",
       " 'cururupu',\n",
       " 'nakusp',\n",
       " 'zhuravka',\n",
       " 'cabedelo',\n",
       " 'nyurba',\n",
       " 'mar del plata',\n",
       " 'rovaniemi',\n",
       " 'airai',\n",
       " 'vardo',\n",
       " 'slave lake',\n",
       " 'kruisfontein',\n",
       " 'wuwei',\n",
       " 'viedma',\n",
       " 'luang prabang',\n",
       " 'winslow',\n",
       " 'redwater',\n",
       " 'svetlogorsk',\n",
       " 'silver city',\n",
       " 'koutsouras',\n",
       " 'loule',\n",
       " 'kuching',\n",
       " 'ahipara',\n",
       " 'sisimiut',\n",
       " 'adrar',\n",
       " 'thompson',\n",
       " 'inuvik',\n",
       " 'cassilandia',\n",
       " 'golden',\n",
       " 'adre',\n",
       " 'leningradskiy',\n",
       " 'mrirt',\n",
       " 'kununurra',\n",
       " 'niquero',\n",
       " 'lavrentiya',\n",
       " 'isangel',\n",
       " 'copparo',\n",
       " 'umzimvubu',\n",
       " 'grandview',\n",
       " 'ardahan',\n",
       " 'celestun',\n",
       " 'hakui',\n",
       " 'kavieng',\n",
       " 'touros',\n",
       " 'saskylakh',\n",
       " 'makakilo city',\n",
       " 'fairbanks',\n",
       " 'cuorgne',\n",
       " 'jamestown',\n",
       " 'lompoc',\n",
       " 'barrow',\n",
       " 'quelimane',\n",
       " 'calama',\n",
       " 'nakasongola',\n",
       " 'zaysan',\n",
       " 'carahue',\n",
       " 'ngukurr',\n",
       " 'bonavista',\n",
       " 'olindina',\n",
       " 'okha',\n",
       " 'yokadouma',\n",
       " 'quatre cocos',\n",
       " 'nelson bay',\n",
       " 'bukama',\n",
       " 'petrolina',\n",
       " 'tautira',\n",
       " 'dzaoudzi',\n",
       " 'rio gallegos',\n",
       " 'tungkang',\n",
       " 'chumphon',\n",
       " 'chunhuhub',\n",
       " 'talcahuano',\n",
       " 'broome',\n",
       " 'tukan',\n",
       " 'iqaluit',\n",
       " 'nantucket',\n",
       " 'alofi',\n",
       " 'half moon bay',\n",
       " 'olafsvik',\n",
       " 'odweyne',\n",
       " 'lavras',\n",
       " 'padang',\n",
       " 'shumyachi',\n",
       " 'ardakan',\n",
       " 'ferrieres',\n",
       " 'bathsheba',\n",
       " 'ternate',\n",
       " 'tevaitoa',\n",
       " 'barbar',\n",
       " 'pochutla',\n",
       " 'santiago del estero',\n",
       " 'high rock',\n",
       " 'hofn',\n",
       " 'cervo',\n",
       " 'havre',\n",
       " 'port antonio',\n",
       " 'deputatskiy',\n",
       " 'lagoa',\n",
       " 'agadir',\n",
       " 'ye',\n",
       " 'davila',\n",
       " 'cockburn town',\n",
       " 'powell river',\n",
       " 'peace river',\n",
       " 'effium',\n",
       " 'provideniya',\n",
       " 'udachnyy',\n",
       " 'jasper',\n",
       " 'arraial do cabo',\n",
       " 'ust-kuyga',\n",
       " 'poya',\n",
       " 'grand gaube',\n",
       " 'mount hagen',\n",
       " 'burnie',\n",
       " 'torbay',\n",
       " 'harrison',\n",
       " 'onoda',\n",
       " 'vitre',\n",
       " 'ilulissat',\n",
       " 'nome',\n",
       " 'herat',\n",
       " 'cabo san lucas',\n",
       " 'syracuse',\n",
       " 'nuuk',\n",
       " 'hervey bay',\n",
       " 'talnakh',\n",
       " 'vila nova de milfontes',\n",
       " 'sao filipe',\n",
       " 'birao',\n",
       " 'longonjo',\n",
       " 'carutapera',\n",
       " 'chernyshevskiy',\n",
       " 'sitka',\n",
       " 'camacha',\n",
       " 'kapit',\n",
       " 'isla aguada',\n",
       " 'rantepao',\n",
       " 'geraldton',\n",
       " 'vadinsk',\n",
       " 'hikari',\n",
       " 'panjab',\n",
       " 'kuala krai',\n",
       " 'mezen',\n",
       " 'moose factory',\n",
       " 'amapa',\n",
       " 'puerto madryn',\n",
       " 'aitape',\n",
       " 'yankton',\n",
       " 'yumen',\n",
       " 'kabanjahe',\n",
       " 'samusu',\n",
       " 'fort frances',\n",
       " 'sobolevo',\n",
       " 'anchorage',\n",
       " 'xuanzhou',\n",
       " 'oktyabrskoye',\n",
       " 'viligili',\n",
       " 'irbeyskoye',\n",
       " 'safranbolu',\n",
       " 'okhotsk',\n",
       " 'pyapon',\n",
       " 'la ronge',\n",
       " 'saint anthony',\n",
       " 'meghri',\n",
       " 'jinchang',\n",
       " 'ambilobe',\n",
       " 'auxerre',\n",
       " 'luwuk',\n",
       " 'mufumbwe',\n",
       " 'nagahama',\n",
       " 'gari',\n",
       " 'choma',\n",
       " 'lulea',\n",
       " 'yining',\n",
       " 'timon',\n",
       " 'medea',\n",
       " 'urumqi',\n",
       " 'ketchikan',\n",
       " 'vao',\n",
       " 'shonguy',\n",
       " 'mehamn',\n",
       " 'ternovka',\n",
       " 'hami',\n",
       " 'akom',\n",
       " 'mudon',\n",
       " 'sakaraha',\n",
       " 'sapao',\n",
       " 'saint-georges',\n",
       " 'limon',\n",
       " 'kalmunai',\n",
       " 'emba',\n",
       " 'swedru',\n",
       " 'altamont',\n",
       " 'sept-iles',\n",
       " 'wadi maliz',\n",
       " 'russell',\n",
       " 'colares',\n",
       " 'chuy',\n",
       " 'goderich',\n",
       " 'bairiki',\n",
       " 'amderma',\n",
       " 'uturoa',\n",
       " 'ambon',\n",
       " 'the valley',\n",
       " 'dawson creek',\n",
       " 'sorland',\n",
       " 'vagur',\n",
       " 'ondorhaan',\n",
       " 'kaniama',\n",
       " 'barceloneta',\n",
       " 'maloshuyka',\n",
       " 'vila franca do campo',\n",
       " 'lianzhou',\n",
       " 'bay-khaak',\n",
       " 'kalaiya',\n",
       " 'college',\n",
       " 'benguela',\n",
       " 'la romana',\n",
       " 'koungou',\n",
       " 'tsihombe',\n",
       " 'huarmey',\n",
       " 'fort nelson',\n",
       " 'laguna',\n",
       " 'anta',\n",
       " 'berlevag',\n",
       " 'lata',\n",
       " 'atherton',\n",
       " 'guerrero negro',\n",
       " 'pangnirtung',\n",
       " 'kingman',\n",
       " 'auki',\n",
       " 'otradnoye',\n",
       " 'severo-kurilsk',\n",
       " 'salsomaggiore terme',\n",
       " 'alto piquiri',\n",
       " 'pokhara',\n",
       " 'karratha',\n",
       " 'tabialan',\n",
       " 'rudraprayag',\n",
       " 'lagoa da canoa',\n",
       " 'praia',\n",
       " 'progreso',\n",
       " 'mushie',\n",
       " 'lucapa',\n",
       " 'dukstas',\n",
       " 'marsa matruh',\n",
       " 'varca',\n",
       " 'ruatoria',\n",
       " 'sarh',\n",
       " 'mizdah',\n",
       " 'sola',\n",
       " 'grand centre',\n",
       " 'verkhnetulomskiy',\n",
       " 'qui nhon',\n",
       " 'roald',\n",
       " 'verkhniy baskunchak',\n",
       " 'alice springs',\n",
       " 'attawapiskat',\n",
       " 'karaul',\n",
       " 'aksu',\n",
       " 'faranah',\n",
       " 'abu samrah',\n",
       " 'pasighat',\n",
       " 'huajuapan',\n",
       " 'maxixe',\n",
       " 'kudowa-zdroj',\n",
       " 'tumannyy',\n",
       " 'shingu',\n",
       " 'el alto',\n",
       " 'mount gambier',\n",
       " 'mys shmidta',\n",
       " 'marv dasht',\n",
       " 'bacolod',\n",
       " 'zyryanka',\n",
       " 'lemesos',\n",
       " 'kenai',\n",
       " 'constitucion',\n",
       " 'yuncheng',\n",
       " 'mbini',\n",
       " 'alta floresta',\n",
       " 'verkhnevilyuysk',\n",
       " 'alotau',\n",
       " 'rjukan',\n",
       " 'pevek',\n",
       " 'akureyri',\n",
       " 'axim',\n",
       " 'duz',\n",
       " 'trinidad de quebradas',\n",
       " 'akhmeta',\n",
       " 'genhe',\n",
       " 'sur',\n",
       " 'broken hill',\n",
       " 'la primavera',\n",
       " 'ormara',\n",
       " 'siderno',\n",
       " 'ambodifototra',\n",
       " 'vinh',\n",
       " 'vanavara',\n",
       " 'upata',\n",
       " 'vanimo',\n",
       " 'atasu',\n",
       " 'amga',\n",
       " 'dombas',\n",
       " 'san luis',\n",
       " 'yefimovskiy',\n",
       " 'mariental',\n",
       " 'mazagao',\n",
       " 'labuan',\n",
       " 'rocky mountain house',\n",
       " 'whyalla',\n",
       " 'boz',\n",
       " 'ndjole',\n",
       " 'mantua',\n",
       " 'azare',\n",
       " 'diego de almagro',\n",
       " 'tan an',\n",
       " 'margate',\n",
       " 'acahay',\n",
       " 'kursk',\n",
       " 'yar-sale',\n",
       " 'flin flon',\n",
       " 'oeiras do para',\n",
       " 'luqiao',\n",
       " 'debre tabor',\n",
       " 'egvekinot',\n",
       " 'acapulco',\n",
       " 'aflu',\n",
       " 'challapata',\n",
       " 'san jeronimo',\n",
       " 'agirish',\n",
       " 'chopda',\n",
       " 'pekan',\n",
       " 'jaumave',\n",
       " 'lebork',\n",
       " 'tibacuy',\n",
       " 'ozinki',\n",
       " 'luba',\n",
       " 'kavaratti',\n",
       " 'kijang',\n",
       " 'beloha',\n",
       " 'yarada',\n",
       " 'kamenskoye',\n",
       " 'andevoranto',\n",
       " 'sabha',\n",
       " 'kautokeino',\n",
       " 'jibuti',\n",
       " 'stoyba',\n",
       " 'fuxin',\n",
       " 'owando',\n",
       " 'guspini',\n",
       " 'sandnessjoen',\n",
       " 'erzin',\n",
       " 'severo-yeniseyskiy',\n",
       " 'dobrinka',\n",
       " 'waingapu',\n",
       " 'changji',\n",
       " 'ballitoville',\n",
       " 'faanui',\n",
       " 'coari',\n",
       " 'komsomolskiy',\n",
       " 'conakry',\n",
       " 'cairns',\n",
       " 'imbituba',\n",
       " 'khani',\n",
       " 'makung',\n",
       " 'cilegon',\n",
       " 'christchurch',\n",
       " 'mokhotlong',\n",
       " 'gwadar',\n",
       " 'bengkulu',\n",
       " 'samalaeulu',\n",
       " 'basco',\n",
       " 'taunggyi',\n",
       " 'labutta',\n",
       " 'karlskoga',\n",
       " 'ko samui',\n",
       " 'nizhneyansk',\n",
       " 'biltine',\n",
       " 'belle glade',\n",
       " 'vuktyl',\n",
       " 'eskasem',\n",
       " 'kondoa',\n",
       " 'baykit',\n",
       " 'hirara',\n",
       " 'novoleushkovskaya',\n",
       " 'atikokan',\n",
       " 'avera',\n",
       " 'tual',\n",
       " 'san angelo',\n",
       " 'asau',\n",
       " 'little canada',\n",
       " 'sao jose da coroa grande',\n",
       " 'eyl',\n",
       " 'morada nova',\n",
       " 'sfantu gheorghe',\n",
       " 'rosarito',\n",
       " 'warmbad',\n",
       " 'bagdarin',\n",
       " 'asfi',\n",
       " 'san cristobal',\n",
       " 'torbat-e jam',\n",
       " 'itaituba',\n",
       " 'shkotovo-22',\n",
       " 'pueblo nuevo',\n",
       " 'atar',\n",
       " 'kargil',\n",
       " 'daru',\n",
       " 'asha',\n",
       " 'takoradi',\n",
       " 'lakatoro',\n",
       " 'shimoda',\n",
       " 'pucallpa',\n",
       " 'tuatapere',\n",
       " 'maragogi',\n",
       " 'qovlar']"
      ]
     },
     "execution_count": 4,
     "metadata": {},
     "output_type": "execute_result"
    }
   ],
   "source": [
    "# display cities\n",
    "cities"
   ]
  },
  {
   "cell_type": "code",
   "execution_count": 5,
   "metadata": {},
   "outputs": [],
   "source": [
    "# display on 10 cities\n",
    "# cities[:10]"
   ]
  },
  {
   "cell_type": "markdown",
   "metadata": {},
   "source": [
    "### Perform API Calls\n",
    "* Perform a weather check on each city using a series of successive API calls.\n",
    "* Include a print log of each city as it'sbeing processed (with the city number and city name).\n"
   ]
  },
  {
   "cell_type": "code",
   "execution_count": 6,
   "metadata": {},
   "outputs": [
    {
     "data": {
      "text/plain": [
       "'https://api.openweathermap.org/data/2.5/weather?q=yulara&appid=d64f2833aec28689f5af36a76f9fa491'"
      ]
     },
     "execution_count": 6,
     "metadata": {},
     "output_type": "execute_result"
    }
   ],
   "source": [
    "### Perform API Calls\n",
    "\n",
    "####  TEMP for testing only:\n",
    "city_name= 'yulara'\n",
    "\n",
    "url=(f'https://api.openweathermap.org/data/2.5/weather?q={city_name}&appid={weather_api_key}')\n",
    "url"
   ]
  },
  {
   "cell_type": "code",
   "execution_count": 7,
   "metadata": {},
   "outputs": [
    {
     "data": {
      "text/plain": [
       "'https://api.openweathermap.org/data/2.5/weather?q=yulara&appid=d64f2833aec28689f5af36a76f9fa491'"
      ]
     },
     "execution_count": 7,
     "metadata": {},
     "output_type": "execute_result"
    }
   ],
   "source": [
    "url=(f'https://api.openweathermap.org/data/2.5/weather?q={city_name}&appid={weather_api_key}')\n",
    "url"
   ]
  },
  {
   "cell_type": "code",
   "execution_count": 8,
   "metadata": {},
   "outputs": [
    {
     "name": "stdout",
     "output_type": "stream",
     "text": [
      "{\n",
      "    \"base\": \"stations\",\n",
      "    \"clouds\": {\n",
      "        \"all\": 75\n",
      "    },\n",
      "    \"cod\": 200,\n",
      "    \"coord\": {\n",
      "        \"lat\": -25.2406,\n",
      "        \"lon\": 130.9889\n",
      "    },\n",
      "    \"dt\": 1612812041,\n",
      "    \"id\": 6355222,\n",
      "    \"main\": {\n",
      "        \"feels_like\": 297.61,\n",
      "        \"humidity\": 26,\n",
      "        \"pressure\": 1006,\n",
      "        \"temp\": 302.15,\n",
      "        \"temp_max\": 302.15,\n",
      "        \"temp_min\": 302.15\n",
      "    },\n",
      "    \"name\": \"Yulara\",\n",
      "    \"sys\": {\n",
      "        \"country\": \"AU\",\n",
      "        \"id\": 9487,\n",
      "        \"sunrise\": 1612817881,\n",
      "        \"sunset\": 1612864956,\n",
      "        \"type\": 1\n",
      "    },\n",
      "    \"timezone\": 34200,\n",
      "    \"visibility\": 10000,\n",
      "    \"weather\": [\n",
      "        {\n",
      "            \"description\": \"broken clouds\",\n",
      "            \"icon\": \"04n\",\n",
      "            \"id\": 803,\n",
      "            \"main\": \"Clouds\"\n",
      "        }\n",
      "    ],\n",
      "    \"wind\": {\n",
      "        \"deg\": 100,\n",
      "        \"speed\": 5.66\n",
      "    }\n",
      "}\n"
     ]
    }
   ],
   "source": [
    "# Pretty print JSON for weather\n",
    "response = requests.get(url).json()\n",
    "\n",
    "print(json.dumps(response, indent=4, sort_keys=True))"
   ]
  },
  {
   "cell_type": "code",
   "execution_count": 9,
   "metadata": {},
   "outputs": [],
   "source": [
    "# reference only -- # List for holding lat_lngs and cities\n",
    "# cities = []\n",
    "\n",
    "lat_lngs = []\n",
    "\n",
    "for city in cities:\n",
    "    url=(f'https://api.openweathermap.org/data/2.5/weather?q={city}&appid={weather_api_key}')\n",
    "    response = requests.get(url).json()\n",
    "    \n",
    "    try:\n",
    "        lat = response[\"coord\"][\"lat\"]\n",
    "        long = response[\"coord\"][\"lon\"]\n",
    "\n",
    "        lat_lng = {'latitude':lat,\n",
    "                   'longitude':long}\n",
    "\n",
    "        #print(\"lat\", lat, \"long\", long)\n",
    "    except:\n",
    "        continue\n",
    "\n",
    "    lat_lngs.append(lat_lng)\n",
    "    \n",
    "#lat_lngs"
   ]
  },
  {
   "cell_type": "code",
   "execution_count": 10,
   "metadata": {},
   "outputs": [
    {
     "data": {
      "text/plain": [
       "[{'latitude': 73.5069, 'longitude': 80.5464},\n",
       " {'latitude': -23.1203, 'longitude': -134.9692},\n",
       " {'latitude': -24.8667, 'longitude': 113.6333},\n",
       " {'latitude': -33.5906, 'longitude': 26.891},\n",
       " {'latitude': -54.8, 'longitude': -68.3},\n",
       " {'latitude': 37.1041, 'longitude': -113.5841},\n",
       " {'latitude': -17.5333, 'longitude': 146.0333},\n",
       " {'latitude': 59.7035, 'longitude': 30.7861},\n",
       " {'latitude': -45.5752, 'longitude': -72.0662},\n",
       " {'latitude': -2.0226, 'longitude': 147.2712}]"
      ]
     },
     "execution_count": 10,
     "metadata": {},
     "output_type": "execute_result"
    }
   ],
   "source": [
    "# Display 10 items for lat / long\n",
    "lat_lngs[:10]"
   ]
  },
  {
   "cell_type": "code",
   "execution_count": 11,
   "metadata": {},
   "outputs": [
    {
     "data": {
      "text/plain": [
       "['dikson',\n",
       " 'rikitea',\n",
       " 'carnarvon',\n",
       " 'port alfred',\n",
       " 'ushuaia',\n",
       " 'saint george',\n",
       " 'innisfail',\n",
       " 'taolanaro',\n",
       " 'nikolskoye',\n",
       " 'coihaique']"
      ]
     },
     "execution_count": 11,
     "metadata": {},
     "output_type": "execute_result"
    }
   ],
   "source": [
    "# display 10 cities\n",
    "cities[:10]"
   ]
  },
  {
   "cell_type": "code",
   "execution_count": 12,
   "metadata": {},
   "outputs": [],
   "source": [
    "# export the city data to a csv file\n",
    "import csv\n",
    "\n",
    "# Specify the file to write to\n",
    "output_path = \"output_data/cities_file.csv\""
   ]
  },
  {
   "cell_type": "code",
   "execution_count": 13,
   "metadata": {},
   "outputs": [
    {
     "name": "stdout",
     "output_type": "stream",
     "text": [
      "9505 carnarvon 0 AU 1612811945 100 -24.8667 113.6333 298.15 8.23\n",
      "2011314 port alfred 79 ZA 1612812024 88 -33.5906 26.891 292.59 0.89\n",
      "8303 ushuaia 0 AR 1612811989 55 -54.8 -68.3 290.15 7.2\n",
      "5832 saint george 1 US 1612811821 27 37.1041 -113.5841 287.04 1.54\n",
      "8926 nikolskoye 0 RU 1612812012 84 59.7035 30.7861 255.93 1\n",
      "8491 coihaique 0 CL 1612811839 25 -45.5752 -72.0662 303.15 2.57\n",
      "1966 bredasdorp 5 ZA 1612811743 78 -34.5322 20.0403 294.15 3.6\n",
      "951 norman wells 1 CA 1612812062 68 65.282 -126.8329 237.15 3.6\n",
      "8474 vila velha 90 BR 1612812052 94 -20.3297 -40.2925 299.26 1.55\n",
      "9616 taiyuan 0 CN 1612812334 68 37.8694 112.5603 267.15 0.6\n",
      "7955 hasaki 20 JP 1612812011 44 35.7333 140.8333 274.15 7.72\n",
      "1943 saldanha 0 ZA 1612812067 73 -33.0117 17.9442 294.15 8.75\n",
      "81 tasiilaq 75 GL 1612812009 63 65.6145 -37.6368 268.15 7.2\n",
      "8488 antofagasta 20 CL 1612812447 64 -23.65 -70.4 295.93 6.69\n",
      "8152 san fernando 75 PH 1612812336 78 15.0286 120.6898 297.15 2.06\n",
      "9525 esperance 0 AU 1612812043 88 -33.8667 121.9 290.15 3.6\n",
      "7414 qurayyat 0 SA 1612812337 47 31.3318 37.3428 286.15 5.14\n",
      "1899 cape town 20 ZA 1612812325 78 -33.9258 18.4232 295.37 8.75\n",
      "2378 aguimes 75 ES 1612812338 68 27.9054 -15.4461 292.15 4.12\n",
      "3888 bethel 1 US 1612811784 36 41.3712 -73.414 270.93 1.54\n",
      "4481 sterling 20 US 1612812288 44 39.0062 -77.4286 276.48 3.6\n",
      "2006131 hermanus 10 ZA 1612812013 81 -34.4187 19.2345 294.82 2.1\n",
      "9124 hambantota 40 LK 1612811955 83 6.1241 81.1185 299.15 5.14\n",
      "20334 katsuura 57 JP 1612812069 32 35.1333 140.3 275.93 0.45\n",
      "9545 hobart 75 AU 1612812117 76 -42.8794 147.3294 284.26 4.63\n",
      "7668 kodiak 20 US 1612812079 74 57.79 -152.4072 272.15 5.14\n",
      "8487 punta arenas 0 CL 1612812010 40 -53.15 -70.9167 294.15 8.75\n",
      "9429 georgetown 20 MY 1612812006 83 5.4112 100.3354 300.93 1.54\n",
      "7881 hilo 1 US 1612812014 50 19.7297 -155.09 297.15 1.54\n",
      "8337 sao joao da barra 90 BR 1612811920 73 -21.6403 -41.0511 299.15 5.14\n",
      "1616 floro 0 NO 1612812346 50 61.5996 5.0328 270.15 5.14\n",
      "1007 yellowknife 75 CA 1612812006 68 62.456 -114.3525 238.15 9.26\n",
      "2007489 bendigo 0 AU 1612812348 50 -36.7667 144.2833 285.37 0.45\n",
      "6883 ribeira grande 75 PT 1612812026 88 38.5167 -28.7 289.15 8.23\n",
      "1912 east london 0 ZA 1612811804 88 -33.0153 27.9116 292.15 1.54\n",
      "4980 pacific grove 1 US 1612812033 76 36.6177 -121.9166 287.04 2.06\n",
      "7285 vaini 90 TO 1612812008 94 -21.2 -175.2 298.15 4.63\n",
      "19530 albany 89 US 1612812247 40 42.6001 -73.9662 269.26 0.89\n",
      "1663 longyearbyen 0 SJ 1612811708 44 78.2186 15.6401 263.15 5.66\n",
      "8506 santiago 0 CL 1612812549 47 -33.4569 -70.6483 300.93 3.09\n",
      "2008303 busselton 75 AU 1612812015 98 -33.65 115.3333 286.48 3.31\n",
      "8669 cayenne 75 GF 1612812082 70 4.9333 -52.3333 302.15 6.17\n",
      "8794 kralendijk 75 BQ 1612812595 70 12.15 -68.2667 302.15 8.23\n",
      "2008291 ponta do sol 20 PT 1612812047 67 32.6667 -17.1 287.59 0.45\n",
      "1596 klaksvik 40 FO 1612812041 64 62.2266 -6.589 275.15 4.12\n",
      "7562 salalah 0 OM 1612812056 73 17.0151 54.0924 296.15 1.03\n",
      "8237 moron 75 AR 1612812105 61 -34.6534 -58.6198 298.15 5.14\n",
      "2035800 victoria 100 HK 1612812051 77 22.2855 114.1577 292.04 0.45\n",
      "7052 bani 40 DO 1612812042 62 18.2833 -70.3333 304.15 6.17\n",
      "47 narsaq 75 GL 1612811887 28 60.9167 -46.05 277.15 18.52\n",
      "8616 santa cruz 75 BO 1612812360 46 -17.8 -63.1667 307.15 4.12\n",
      "1036 hay river 100 CA 1612812360 68 60.8156 -115.7999 238.15 9.26\n",
      "3705 san patricio 90 US 1612812007 73 28.017 -97.5169 298.15 7.2\n",
      "4776 hamilton 40 US 1612812362 35 39.1834 -84.5333 276.15 2.06\n",
      "83 husavik 90 IS 1612812028 80 66.0449 -17.3389 272.15 2.57\n",
      "604 athabasca 0 CA 1612812124 63 54.7169 -113.2854 245.15 5.14\n",
      "8859 heihe 0 CN 1612812364 60 50.2441 127.4902 254.15 2\n",
      "983 whitehorse 20 CA 1612812365 69 60.7161 -135.0538 245.37 2.57\n",
      "8682 lima 40 PE 1612812442 73 -12.0432 -77.0282 298.15 6.69\n",
      "8661 pailon 75 BO 1612812366 55 -17.65 -62.75 307.15 2.57\n",
      "4040 fredericksburg 1 US 1612812213 45 38.3032 -77.4605 277.59 2.57\n",
      "1450 stornoway 12 GB 1612812368 64 58.2093 -6.3865 274.15 5.14\n",
      "8552 manta 90 EC 1612812328 78 -0.95 -80.7333 300.15 1.03\n",
      "7873 kapaa 1 US 1612811888 64 22.0752 -159.319 296.15 5.14\n",
      "2061 bambous virieux 40 MU 1612812508 74 -20.3428 57.7575 300.15 3.6\n",
      "90 grindavik 0 IS 1612812040 69 63.8424 -22.4338 273.15 4.63\n",
      "4453 mastic beach 1 US 1612812371 46 40.7668 -72.8521 270.93 2.57\n",
      "8444 benjamin constant 90 BR 1612812073 94 -4.3831 -70.0311 300.15 2.57\n",
      "9470 singapore 75 SG 1612812243 83 1.2897 103.8501 299.15 3.09\n",
      "776 clyde river 20 CA 1612812033 92 70.4692 -68.5914 259.15 11.32\n",
      "2061 mahebourg 40 MU 1612812059 74 -20.4081 57.7 300.15 3.6\n",
      "8430 santa maria 0 BR 1612812374 45 -29.6842 -53.8069 303.15 3.6\n",
      "8872 anadyr 40 RU 1612811963 72 64.75 177.4833 261.15 9\n",
      "8521 puerto ayora 75 EC 1612812619 78 -0.7393 -90.3518 301.15 5.66\n",
      "5731 rawlins 1 US 1612812263 32 41.7911 -107.2387 274.15 16.46\n",
      "8138 nago 1 JP 1612812377 76 26.5881 127.9761 287.15 4.12\n",
      "2012221 caborca 0 MX 1612812378 36 30.5838 -111.101 292.04 0.89\n",
      "8512 ancud 0 CL 1612811987 39 -41.8697 -73.8203 300.93 3.6\n",
      "2061 souillac 40 MU 1612812031 74 -20.5167 57.5167 300.15 3.6\n",
      "93 vestmannaeyjar 40 IS 1612812380 87 63.4427 -20.2734 275.15 7.72\n",
      "5321 portland 75 US 1612812169 65 45.5234 -122.6762 280.37 1.54\n",
      "483 chase 0 CA 1612812383 41 50.8165 -119.6857 265.37 6.69\n",
      "8137 nishihara 40 JP 1612812073 63 26.1842 127.7558 289.15 6.17\n",
      "20106 kiama 100 AU 1612812384 94 -34.6833 150.8667 291.48 0.45\n",
      "50154 ulverstone 0 AU 1612812385 70 -41.15 146.1667 283.71 4.65\n",
      "8915 sadove 90 UA 1612812385 100 46.2487 30.1795 275.15 9\n",
      "1973 port elizabeth 0 ZA 1612812576 83 -33.918 25.5701 293.15 5.66\n",
      "883 prince rupert 90 CA 1612812531 59 54.3161 -130.3201 272.15 1.03\n",
      "3536 rupert 1 US 1612812388 44 42.6191 -113.6772 276.15 7.2\n",
      "4127 fortuna 20 US 1612812504 87 40.5982 -124.1573 283.71 1.14\n",
      "9490 mareeba 90 AU 1612812634 94 -17 145.4333 298.15 1.54\n",
      "7426 riyadh 0 SA 1612812391 55 24.6877 46.7219 288.15 3.09\n",
      "9487 yulara 75 AU 1612812041 26 -25.2406 130.9889 302.15 5.66\n",
      "2031989 dunedin 100 NZ 1612812530 81 -45.8742 170.5036 289.26 1.29\n",
      "2031307 new norfolk 31 AU 1612812513 67 -42.7826 147.0587 284.26 0.89\n",
      "9495 mount isa 90 AU 1612811901 83 -20.7333 139.5 298.15 3.09\n",
      "2000217 kaitangata 100 NZ 1612812067 89 -46.2817 169.8464 290.37 0.45\n",
      "859 chapais 75 CA 1612811832 60 49.7834 -74.8492 257.15 4.12\n",
      "9278 phangnga 20 TH 1612812396 88 8.4509 98.5298 298.15 1.03\n",
      "942 tuktoyaktuk 1 CA 1612812640 66 69.4541 -133.0374 232.15 2.13\n",
      "7487 tabas 0 IR 1612812400 50 33.5959 56.9244 285.15 2.06\n",
      "8691 pisco 0 PE 1612812644 73 -13.7 -76.2167 298.15 3.6\n",
      "7146 miraflores 1 MX 1612812402 9 19.2167 -98.8083 299.15 1.54\n",
      "699 parry sound 99 CA 1612812431 86 45.3501 -80.033 267.04 4.33\n",
      "7481 birjand 0 IR 1612812405 49 32.8663 59.2211 282.15 2.1\n",
      "7271 avarua 20 CK 1612812502 83 -21.2078 -159.775 301.15 3.09\n",
      "9138 varanasi 0 IN 1612812385 77 25.3333 83 288.15 1.54\n",
      "8417 natal 20 BR 1612812150 62 -5.795 -35.2094 304.15 7.2\n",
      "8436 belmonte 90 BR 1612812408 78 -15.8631 -38.8828 301.15 2.06\n",
      "3409 westport 1 US 1612812356 54 41.1415 -73.3579 271.48 3.09\n",
      "8498 valparaiso 20 CL 1612812148 49 -33.0393 -71.6273 295.15 3.6\n",
      "7159 san jose el alto 1 MX 1612812410 23 20.65 -100.3667 296.15 5.66\n",
      "2127 saint-philippe 20 RE 1612812519 73 -21.3585 55.7679 299.15 0.51\n",
      "7879 kahului 20 US 1612812654 64 20.8947 -156.47 297.15 3.6\n",
      "1651 storforshei 75 NO 1612812412 85 66.4043 14.5233 264.82 1.03\n",
      "9521 sawtell 90 AU 1612812393 83 -30.3833 153.1 293.15 4.12\n",
      "399 nakusp 97 CA 1612812413 36 50.2499 -117.8023 269.15 2.57\n",
      "8391 cabedelo 20 BR 1612812656 70 -6.9811 -34.8339 302.15 4.63\n",
      "8305 mar del plata 40 AR 1612812504 60 -38.0023 -57.5575 293.15 8.75\n",
      "1354 rovaniemi 0 FI 1612812415 85 66.5 25.7167 261.15 4.12\n",
      "1666 vardo 90 NO 1612812658 86 70.3705 31.1107 267.15 8.23\n",
      "1008 slave lake 20 CA 1612812416 69 55.2834 -114.769 244.15 4.12\n",
      "2035063 kruisfontein 37 ZA 1612812521 75 -34.0033 24.7314 292.59 0.89\n",
      "2030260 viedma 0 AR 1612812025 38 -40.8135 -62.9967 297.59 1.34\n",
      "4534 winslow 1 US 1612812418 11 35.0242 -110.6974 290.15 4.31\n",
      "6094 redwater 90 US 1612812418 87 33.3582 -94.2544 288.71 3.09\n",
      "5940 silver city 1 US 1612812419 10 32.7701 -108.2803 289.15 8.23\n",
      "2017542 koutsouras 0 GR 1612812419 85 35.0339 25.9469 289.26 6.34\n",
      "6892 loule 20 PT 1612812420 94 37.1377 -8.0197 287.15 4.12\n",
      "9366 kuching 20 MY 1612812420 100 1.55 110.3333 297.15 1.03\n",
      "935 thompson 90 CA 1612812511 69 55.7435 -97.8558 244.15 6.69\n"
     ]
    },
    {
     "name": "stdout",
     "output_type": "stream",
     "text": [
      "1029 inuvik 100 CA 1612812422 67 68.3499 -133.7218 235.15 2.06\n",
      "3444 golden 75 US 1612812150 58 39.7555 -105.2211 279.26 4.12\n",
      "9587 kununurra 75 AU 1612812562 100 -15.7667 128.7333 298.15 3.09\n",
      "7317 isangel 20 VU 1612812668 100 -19.55 169.2667 295.15 2.34\n",
      "6761 copparo 75 IT 1612812426 76 44.893 11.8249 283.15 1.43\n",
      "4794 grandview 90 US 1612812427 85 38.8858 -94.533 260.15 4.12\n",
      "60994 hakui 100 JP 1612812428 82 36.8833 136.7833 273.71 4.24\n",
      "8452 touros 0 BR 1612812522 62 -5.1989 -35.4608 303.15 9.26\n",
      "7868 makakilo city 20 US 1612812429 57 21.3469 -158.0858 297.15 5.14\n",
      "7684 fairbanks 1 US 1612812627 76 64.8378 -147.7164 245.15 3.09\n",
      "2003464 cuorgne 12 IT 1612812430 75 45.3895 7.6499 278.71 1.69\n",
      "4588 jamestown 90 US 1612812472 58 42.097 -79.2353 268.15 4.63\n",
      "4747 lompoc 90 US 1612811976 82 34.6391 -120.4579 285.15 1.54\n",
      "7649 barrow 1 US 1612812521 84 71.2906 -156.7887 236.15 5.66\n",
      "2208 quelimane 20 MZ 1612812432 65 -17.8786 36.8883 302.15 2.57\n",
      "8480 calama 0 CL 1612812432 29 -22.4667 -68.9333 297.15 9.26\n",
      "8527 carahue 0 CL 1612812433 57 -38.7 -73.1667 300.15 5.66\n",
      "719 bonavista 100 CA 1612812676 100 48.6499 -53.1147 272.59 3.6\n",
      "2061 quatre cocos 40 MU 1612812435 74 -20.2078 57.7625 300.15 3.6\n",
      "9605 nelson bay 90 AU 1612812678 88 -32.7167 152.15 293.15 2.06\n",
      "8418 petrolina 0 BR 1612812302 69 -9.3986 -40.5008 301.15 2.57\n",
      "7318 tautira 20 PF 1612812594 74 -17.7333 -149.15 302.15 1.54\n",
      "2131 dzaoudzi 75 YT 1612812437 83 -12.7887 45.2699 300.15 2.57\n",
      "8293 rio gallegos 0 AR 1612812566 21 -51.6226 -69.2181 301.15 4.63\n",
      "8499 talcahuano 75 CL 1612812439 77 -36.7167 -73.1167 291.15 5.66\n",
      "3429 broome 75 US 1612812440 41 42.2506 -75.833 268.71 2.29\n",
      "797 iqaluit 75 CA 1612812633 74 63.7506 -68.5145 270.15 1.03\n",
      "3218 nantucket 1 US 1612812441 63 41.2835 -70.0995 270.37 5.66\n",
      "7306 alofi 75 NU 1612812506 89 -19.0595 -169.9187 300.15 2.57\n",
      "4322 half moon bay 75 US 1612812684 87 37.4636 -122.4286 286.48 2.57\n",
      "9423 padang 75 ID 1612812373 94 -0.9492 100.3543 297.15 1.03\n",
      "7511 ardakan 0 IR 1612812444 53 32.31 54.0175 283.15 3.09\n",
      "1249 ferrieres 75 BE 1612812444 86 50.4016 5.6109 267.59 4.63\n",
      "8772 bathsheba 20 BB 1612812647 54 13.2167 -59.5167 301.15 8.23\n",
      "7096 pochutla 1 MX 1612812446 43 15.7432 -96.4661 305.37 5.14\n",
      "2036434 santiago del estero 78 AR 1612812044 36 -27.7951 -64.2615 307.04 2.68\n",
      "7260 high rock 75 BS 1612812447 83 26.6208 -78.2833 299.15 5.14\n",
      "76 hofn 90 IS 1612812591 80 64.2539 -15.2082 275.15 4.63\n",
      "2036094 cervo 100 ES 1612812448 90 43.6702 -7.4101 283.15 2.68\n",
      "6533 havre 90 FR 1612812448 86 49.5833 0.3333 272.15 5.14\n",
      "7105 port antonio 20 JM 1612812449 70 18.18 -76.4612 305.37 8.75\n",
      "2393 agadir 75 MA 1612812692 94 30.4202 -9.5982 288.15 3.6\n",
      "8159 davila 75 PH 1612812451 69 18.4726 120.5763 300.15 4.63\n",
      "7041 cockburn town 40 TC 1612812565 65 21.4612 -71.1419 301.15 5.14\n",
      "874 powell river 40 CA 1612812451 93 49.8496 -124.5361 276.48 1.03\n",
      "877 peace river 20 CA 1612812694 69 56.2501 -117.286 242.15 2.06\n",
      "1157 effium 100 NG 1612812373 46 6.6292 8.0593 306.15 2.06\n",
      "4590 jasper 90 US 1612812453 93 37.2001 -94.3502 267.04 4.12\n",
      "8326 arraial do cabo 75 BR 1612812505 83 -22.9661 -42.0278 297.15 4.63\n",
      "2002134 grand gaube 24 MU 1612812645 79 -20.0064 57.6608 298.71 1.34\n",
      "50154 burnie 0 AU 1612812456 70 -41.0667 145.9167 283.71 4.55\n",
      "998 torbay 90 CA 1612812584 93 47.6666 -52.7314 273.71 9.26\n",
      "4248 harrison 90 US 1612812456 72 30.4091 -89.0436 289.82 7.72\n",
      "7995 onoda 20 JP 1612812457 45 34.0014 131.1836 279.15 3.09\n",
      "6538 vitre 90 FR 1612812414 86 48.1178 -1.2058 276.15 3.6\n",
      "165 ilulissat 1 GL 1612812699 36 69.2167 -51.1 269.15 12.35\n",
      "7770 nome 1 US 1612812510 51 64.5011 -165.4064 259.15 4.12\n",
      "7151 cabo san lucas 1 MX 1612812700 40 22.8909 -109.9124 297.04 5.14\n",
      "6704 syracuse 40 IT 1612812459 76 37.0881 15.2792 287.15 4.63\n",
      "86 nuuk 1 GL 1612812264 40 64.1835 -51.7216 273.15 4.12\n",
      "2032484 hervey bay 63 AU 1612812702 74 -25.2986 152.8535 296.48 1.34\n",
      "73730 vila nova de milfontes 4 PT 1612812461 100 37.7238 -8.7828 285.93 0.89\n",
      "7795 sitka 90 US 1612812464 58 57.0531 -135.33 269.15 7.72\n",
      "6902 camacha 20 PT 1612812604 88 33.0833 -16.3333 288.15 3.09\n",
      "7100 isla aguada 1 MX 1612812464 74 18.7833 -91.4667 300.15 5.66\n",
      "9522 geraldton 0 AU 1612812506 94 -28.7667 114.6 290.15 2.06\n",
      "8029 hikari 40 JP 1612812466 75 33.955 131.95 275.15 2.06\n",
      "860 moose factory 1 CA 1612812467 54 51.2585 -80.6094 253.15 7.72\n",
      "6329 yankton 40 US 1612812469 62 42.8711 -97.3973 262.15 1.54\n",
      "9412 kabanjahe 72 ID 1612812300 100 3.1001 98.4908 297.15 1.54\n",
      "4536 fort frances 1 CA 1612812470 45 48.5999 -93.4003 250.37 6.69\n",
      "7756 anchorage 1 US 1612812360 77 61.2181 -149.9003 256.48 1.96\n",
      "8969 oktyabrskoye 98 RU 1612812713 93 43.0645 44.7417 270.93 2\n",
      "949 la ronge 90 CA 1612812590 63 55.1001 -105.2842 243.15 9.77\n",
      "4900 saint anthony 1 US 1612812475 55 45.0205 -93.218 255.93 2.57\n",
      "2007717 auxerre 61 FR 1612812476 78 47.8 3.5667 274.26 1.64\n",
      "2000847 nagahama 72 JP 1612812336 95 35.3833 136.2667 274.26 4.67\n",
      "1775 lulea 20 SE 1612812479 85 65.5842 22.1547 261.15 0.51\n",
      "8447 timon 40 BR 1612812366 58 -5.0942 -42.8367 305.15 3.6\n",
      "1060 medea 20 DZ 1612812480 59 36.2642 2.7539 289.15 7.72\n",
      "9677 urumqi 20 CN 1612812480 92 43.801 87.6005 263.15 1\n",
      "7741 ketchikan 90 US 1612812481 74 55.3422 -131.6461 269.15 2.57\n",
      "8927 shonguy 40 RU 1612812723 84 68.7526 33.146 250.15 2\n",
      "1633 mehamn 75 NO 1612812482 58 71.0357 27.8492 269.15 9.77\n",
      "8781 saint-georges 20 GD 1612812253 62 12.0564 -61.7485 303.15 10.29\n",
      "7201 limon 20 CR 1612812485 65 10 -83.0333 302.15 2.57\n",
      "1126 swedru 75 GH 1612812486 61 5.5371 -0.6998 300.15 6.17\n",
      "4732 altamont 1 US 1612812487 38 42.2068 -121.7372 278.71 1.54\n",
      "309 sept-iles 100 CA 1612812394 63 50.2001 -66.3821 270.37 6.17\n",
      "1216 wadi maliz 40 TN 1612812487 67 36.4681 8.5495 286.15 1.03\n",
      "4765 russell 1 US 1612812488 45 32.3502 -85.1999 290.15 3.6\n",
      "6873 colares 40 PT 1612812488 82 38.7992 -9.4469 286.48 3.09\n",
      "253 goderich 100 CA 1612812489 73 43.7501 -81.7165 263.15 4.63\n",
      "7300 bairiki 75 KI 1612812489 94 1.3292 172.9752 299.15 4.12\n",
      "9361 ambon 20 ID 1612812490 94 -3.6954 128.1814 298.71 3.09\n",
      "8788 the valley 40 AI 1612812381 65 18.217 -63.0578 301.15 7.2\n",
      "783 dawson creek 20 CA 1612812491 63 55.7666 -120.2362 243.15 4.63\n",
      "1661 sorland 75 NO 1612812732 93 67.667 12.6934 274.15 9.26\n",
      "2035961 barceloneta 97 PR 1612812288 94 18.4505 -66.5385 300.37 0.45\n",
      "6899 vila franca do campo 75 PT 1612812516 88 37.7167 -25.4333 289.26 10.8\n",
      "7683 college 1 US 1612812365 80 64.8569 -147.8028 245.15 2.06\n",
      "7055 la romana 40 DO 1612812496 58 18.4273 -68.9728 302.15 5.14\n",
      "2131 koungou 75 YT 1612812497 83 -12.7336 45.2042 300.15 2.57\n",
      "986 fort nelson 20 CA 1612812498 69 58.8053 -122.7002 242.15 1.03\n",
      "5769 laguna 1 US 1612812739 62 38.421 -121.4238 289.26 1.54\n",
      "1618 berlevag 75 NO 1612812499 93 70.8578 29.0864 269.15 5.66\n",
      "2016210 lata 61 PT 1612812740 85 40.1629 -8.3327 285.37 2.18\n",
      "2001932 atherton 5 GB 1612812500 66 53.5237 -2.4935 274.26 1.34\n",
      "968 pangnirtung 20 CA 1612812519 53 66.1451 -65.7125 265.15 1.03\n",
      "4500 kingman 1 US 1612812741 16 35.1894 -114.053 291.15 6.17\n",
      "8926 otradnoye 0 RU 1612812501 84 59.7775 30.8181 259.82 1\n",
      "6744 salsomaggiore terme 75 IT 1612812502 66 44.8148 9.9796 284.15 0.51\n",
      "2462 praia 90 CV 1612812746 73 14.9215 -23.5087 294.15 8.75\n",
      "7140 progreso 40 MX 1612812505 43 21.2833 -89.6667 307.15 5.14\n",
      "2517 marsa matruh 0 EG 1612812507 30 31.3525 27.2453 293.15 6.69\n",
      "9233 varca 0 IN 1612812507 69 15.2167 73.9167 298.15 3.6\n",
      "2216 sarh 0 TD 1612812508 21 9.1429 18.3923 301.15 1.98\n",
      "7307 sola 20 VU 1612812505 94 -13.8833 167.55 296.15 2.35\n",
      "8927 verkhnetulomskiy 40 RU 1612812510 84 68.6073 31.7962 250.15 2\n",
      "1602 roald 0 NO 1612812751 68 62.5833 6.1333 267.15 4.12\n",
      "9483 alice springs 75 AU 1612812511 57 -23.7 133.8833 300.15 2.06\n",
      "2200 maxixe 75 MZ 1612812514 86 -23.8597 35.3472 299.82 2.57\n",
      "2036922 kudowa-zdroj 100 PL 1612812515 79 50.443 16.244 266.48 0.99\n",
      "8685 el alto 0 PE 1612812516 46 -4.2714 -81.2147 306.15 8.23\n",
      "9560 mount gambier 0 AU 1612812512 93 -37.8333 140.7667 282.15 3.09\n",
      "7680 kenai 1 US 1612812759 70 60.5544 -151.2583 257.04 3.85\n",
      "8308 alta floresta 75 BR 1612812520 58 -9.8756 -56.0861 306.15 4.63\n",
      "1645 rjukan 75 NO 1612812521 73 59.8789 8.5941 266.15 2.59\n",
      "83 akureyri 90 IS 1612812522 80 65.6835 -18.0878 272.15 2.57\n",
      "8862 akhmeta 100 GE 1612812524 93 42.0311 45.2075 277.15 1.19\n",
      "9491 broken hill 0 AU 1612812525 29 -31.95 141.4333 290.15 4.44\n"
     ]
    },
    {
     "name": "stdout",
     "output_type": "stream",
     "text": [
      "6710 siderno 20 IT 1612812526 62 38.2779 16.302 287.59 3.09\n",
      "8244 san luis 75 AR 1612812435 88 -33.295 -66.3356 289.15 6.17\n",
      "8415 mazagao 75 BR 1612812531 100 -0.115 -51.2894 298.15 5.66\n",
      "9372 labuan 20 MY 1612812531 94 5.2767 115.2417 298.15 3.01\n",
      "465 rocky mountain house 98 CA 1612812232 70 52.3668 -114.9188 247.15 4.12\n",
      "9613 whyalla 0 AU 1612812532 77 -33.0333 137.5833 289.15 2.06\n",
      "2005582 boz 100 FR 1612812532 90 46.4071 4.9109 277.04 0.45\n",
      "2011529 mantua 0 IT 1612812533 77 45.1667 10.7833 282.59 2.24\n",
      "9314 tan an 75 VN 1612812534 94 10.5333 106.4167 298.15 0.51\n",
      "2020742 margate 100 GB 1612812535 70 51.3813 1.3862 272.04 1.79\n",
      "9031 kursk 0 RU 1612812535 67 51.7303 36.1939 261.15 7\n",
      "782 flin flon 90 CA 1612812536 63 54.7682 -101.865 243.15 4.12\n",
      "2016515 luqiao 100 CN 1612812537 59 28.5808 121.3772 282.04 3.51\n",
      "7103 acapulco 1 MX 1612812394 58 16.8634 -99.8901 303.15 5.66\n",
      "9432 pekan 20 MY 1612812540 88 3.4836 103.3996 297.15 2.06\n",
      "7112 jaumave 40 MX 1612812541 39 23.4167 -99.3833 301.15 6.17\n",
      "1696 lebork 90 PL 1612812541 86 54.5392 17.7501 265.15 8.23\n",
      "8086 kijang 0 KR 1612812543 43 35.2442 129.2139 270.15 2.57\n",
      "9255 yarada 72 IN 1612812783 88 17.65 83.2667 292.15 1.03\n",
      "5588 jibuti 75 DJ 1612812546 69 11.5 42.5 299.15 2.06\n",
      "6719 guspini 75 IT 1612812547 94 39.5406 8.6294 287.59 3.6\n",
      "1675 sandnessjoen 40 NO 1612812548 80 66.0217 12.6316 271.15 4.63\n",
      "7008 erzin 75 TR 1612812548 88 36.9559 36.2 287.15 2.06\n",
      "9677 changji 44 CN 1612812550 92 44.0167 87.3167 263.15 1\n",
      "1934 ballitoville 90 ZA 1612812550 88 -29.539 31.2144 296.15 3.6\n",
      "9011 komsomolskiy 90 UZ 1612812650 87 40.4272 71.7189 281.15 2.06\n",
      "2451 conakry 20 GN 1612812314 74 9.538 -13.6773 302.15 3.09\n",
      "9490 cairns 90 AU 1612812552 94 -16.9167 145.7667 298.15 1.54\n",
      "8360 imbituba 20 BR 1612812553 61 -28.24 -48.6703 299.15 6.69\n",
      "8856 khani 0 GE 1612812553 66 41.9563 42.9566 285.15 2.06\n",
      "9384 cilegon 40 ID 1612812554 88 -6.0174 106.0538 298.15 1.03\n",
      "7348 christchurch 100 NZ 1612812543 43 -43.5333 172.6333 294.15 3.6\n",
      "1777 karlskoga 40 SE 1612812557 79 59.3267 14.5239 267.59 5.14\n",
      "2017581 belle glade 3 US 1612812559 76 26.6845 -80.6676 301.48 1.79\n",
      "2827 avera 1 US 1612812538 55 33.194 -82.5271 289.15 3.09\n",
      "5851 san angelo 1 US 1612812563 25 31.4638 -100.437 298.15 5.66\n",
      "2033571 asau 100 RO 1612812563 75 46.4333 26.4 274.26 1.02\n",
      "3291 little canada 40 US 1612812495 50 45.0269 -93.0877 255.93 2.57\n",
      "80250 sfantu gheorghe 100 RO 1612812565 83 45.8667 25.7833 282.59 1.48\n",
      "7164 rosarito 1 MX 1612812369 67 32.3333 -117.0333 287.15 2.75\n",
      "8587 san cristobal 40 VE 1612812806 48 7.7669 -72.225 305.15 5.14\n",
      "8368 itaituba 40 BR 1612812568 66 -4.2761 -55.9836 304.15 2.06\n",
      "2434 atar 0 MR 1612812807 12 20.5169 -13.0499 300.15 3.09\n",
      "8675 pucallpa 40 PE 1612812572 58 -8.3791 -74.5539 305.15 3.09\n",
      "8838 qovlar 90 AZ 1612812811 100 40.948 45.735 276.15 2.06\n"
     ]
    }
   ],
   "source": [
    "# full run of cities\n",
    "\n",
    "# Open the file using \"write\" mode. Specify the variable to hold the contents\n",
    "with open(output_path, 'w', newline='') as csvfile:\n",
    "\n",
    "    # Initialize csv.writer\n",
    "    csvwriter = csv.writer(csvfile, delimiter=',')\n",
    "\n",
    "    # Write the first row (column headers)\n",
    "    csvwriter.writerow(['City ID', 'City', 'Cloudiness', 'Country', 'Date', 'Humidity', 'Lat', 'Lng', \n",
    "                        'Max Temp', 'Wind Speed'])\n",
    "    \n",
    "    # read cities file, get all the values from the API response and write rows to the cities_file\n",
    "    \n",
    "    for city in cities:\n",
    "        url=(f'https://api.openweathermap.org/data/2.5/weather?q={city}&appid={weather_api_key}')\n",
    "        response = requests.get(url).json()\n",
    "        try:\n",
    "            city_id = response[\"sys\"][\"id\"]\n",
    "            cloudiness = response[\"clouds\"][\"all\"]\n",
    "            country = response[\"sys\"][\"country\"]\n",
    "            date = response[\"dt\"]\n",
    "            humidity = response[\"main\"][\"humidity\"]\n",
    "            lat = response[\"coord\"][\"lat\"]\n",
    "            long = response[\"coord\"][\"lon\"]\n",
    "            max_temp = response[\"main\"][\"temp_max\"]\n",
    "            wind_speed = response[\"wind\"][\"speed\"]\n",
    "            \n",
    "            # Display city data\n",
    "            print(city_id, city, cloudiness, country, date, humidity, lat, long, max_temp, wind_speed)\n",
    "            \n",
    "            # write to excel output file\n",
    "            csvwriter.writerow([city_id, city, cloudiness, country, date, humidity, lat, long, max_temp, wind_speed])\n",
    "            \n",
    "        except:\n",
    "            continue\n",
    "            "
   ]
  },
  {
   "cell_type": "markdown",
   "metadata": {},
   "source": [
    "### Convert Raw Data to DataFrame\n",
    "* Export the city data into a .csv.\n",
    "* Display the DataFrame"
   ]
  },
  {
   "cell_type": "code",
   "execution_count": 14,
   "metadata": {},
   "outputs": [
    {
     "data": {
      "text/html": [
       "<div>\n",
       "<style scoped>\n",
       "    .dataframe tbody tr th:only-of-type {\n",
       "        vertical-align: middle;\n",
       "    }\n",
       "\n",
       "    .dataframe tbody tr th {\n",
       "        vertical-align: top;\n",
       "    }\n",
       "\n",
       "    .dataframe thead th {\n",
       "        text-align: right;\n",
       "    }\n",
       "</style>\n",
       "<table border=\"1\" class=\"dataframe\">\n",
       "  <thead>\n",
       "    <tr style=\"text-align: right;\">\n",
       "      <th></th>\n",
       "      <th>City ID</th>\n",
       "      <th>City</th>\n",
       "      <th>Cloudiness</th>\n",
       "      <th>Country</th>\n",
       "      <th>Date</th>\n",
       "      <th>Humidity</th>\n",
       "      <th>Lat</th>\n",
       "      <th>Lng</th>\n",
       "      <th>Max Temp</th>\n",
       "      <th>Wind Speed</th>\n",
       "    </tr>\n",
       "  </thead>\n",
       "  <tbody>\n",
       "    <tr>\n",
       "      <th>0</th>\n",
       "      <td>9505</td>\n",
       "      <td>carnarvon</td>\n",
       "      <td>0</td>\n",
       "      <td>AU</td>\n",
       "      <td>1612811945</td>\n",
       "      <td>100</td>\n",
       "      <td>-24.8667</td>\n",
       "      <td>113.6333</td>\n",
       "      <td>298.15</td>\n",
       "      <td>8.23</td>\n",
       "    </tr>\n",
       "    <tr>\n",
       "      <th>1</th>\n",
       "      <td>2011314</td>\n",
       "      <td>port alfred</td>\n",
       "      <td>79</td>\n",
       "      <td>ZA</td>\n",
       "      <td>1612812024</td>\n",
       "      <td>88</td>\n",
       "      <td>-33.5906</td>\n",
       "      <td>26.8910</td>\n",
       "      <td>292.59</td>\n",
       "      <td>0.89</td>\n",
       "    </tr>\n",
       "    <tr>\n",
       "      <th>2</th>\n",
       "      <td>8303</td>\n",
       "      <td>ushuaia</td>\n",
       "      <td>0</td>\n",
       "      <td>AR</td>\n",
       "      <td>1612811989</td>\n",
       "      <td>55</td>\n",
       "      <td>-54.8000</td>\n",
       "      <td>-68.3000</td>\n",
       "      <td>290.15</td>\n",
       "      <td>7.20</td>\n",
       "    </tr>\n",
       "    <tr>\n",
       "      <th>3</th>\n",
       "      <td>5832</td>\n",
       "      <td>saint george</td>\n",
       "      <td>1</td>\n",
       "      <td>US</td>\n",
       "      <td>1612811821</td>\n",
       "      <td>27</td>\n",
       "      <td>37.1041</td>\n",
       "      <td>-113.5841</td>\n",
       "      <td>287.04</td>\n",
       "      <td>1.54</td>\n",
       "    </tr>\n",
       "    <tr>\n",
       "      <th>4</th>\n",
       "      <td>8926</td>\n",
       "      <td>nikolskoye</td>\n",
       "      <td>0</td>\n",
       "      <td>RU</td>\n",
       "      <td>1612812012</td>\n",
       "      <td>84</td>\n",
       "      <td>59.7035</td>\n",
       "      <td>30.7861</td>\n",
       "      <td>255.93</td>\n",
       "      <td>1.00</td>\n",
       "    </tr>\n",
       "  </tbody>\n",
       "</table>\n",
       "</div>"
      ],
      "text/plain": [
       "   City ID          City  Cloudiness Country        Date  Humidity      Lat  \\\n",
       "0     9505     carnarvon           0      AU  1612811945       100 -24.8667   \n",
       "1  2011314   port alfred          79      ZA  1612812024        88 -33.5906   \n",
       "2     8303       ushuaia           0      AR  1612811989        55 -54.8000   \n",
       "3     5832  saint george           1      US  1612811821        27  37.1041   \n",
       "4     8926    nikolskoye           0      RU  1612812012        84  59.7035   \n",
       "\n",
       "        Lng  Max Temp  Wind Speed  \n",
       "0  113.6333    298.15        8.23  \n",
       "1   26.8910    292.59        0.89  \n",
       "2  -68.3000    290.15        7.20  \n",
       "3 -113.5841    287.04        1.54  \n",
       "4   30.7861    255.93        1.00  "
      ]
     },
     "execution_count": 14,
     "metadata": {},
     "output_type": "execute_result"
    }
   ],
   "source": [
    "# Cities data file\n",
    "cities_data_path = \"output_data/cities_file.csv\"\n",
    "cities_data_path\n",
    "\n",
    "# read the cities file and put in a pandas dataframe\n",
    "cities_df = pd.read_csv(cities_data_path)\n",
    "cities_df.head()"
   ]
  },
  {
   "cell_type": "code",
   "execution_count": 15,
   "metadata": {},
   "outputs": [
    {
     "name": "stderr",
     "output_type": "stream",
     "text": [
      "<ipython-input-15-8d8f6c037661>:14: SettingWithCopyWarning: \n",
      "A value is trying to be set on a copy of a slice from a DataFrame\n",
      "\n",
      "See the caveats in the documentation: https://pandas.pydata.org/pandas-docs/stable/user_guide/indexing.html#returning-a-view-versus-a-copy\n",
      "  new_df['Max Temp'][ind] = temp_f\n"
     ]
    },
    {
     "data": {
      "text/html": [
       "<div>\n",
       "<style scoped>\n",
       "    .dataframe tbody tr th:only-of-type {\n",
       "        vertical-align: middle;\n",
       "    }\n",
       "\n",
       "    .dataframe tbody tr th {\n",
       "        vertical-align: top;\n",
       "    }\n",
       "\n",
       "    .dataframe thead th {\n",
       "        text-align: right;\n",
       "    }\n",
       "</style>\n",
       "<table border=\"1\" class=\"dataframe\">\n",
       "  <thead>\n",
       "    <tr style=\"text-align: right;\">\n",
       "      <th></th>\n",
       "      <th>City ID</th>\n",
       "      <th>City</th>\n",
       "      <th>Cloudiness</th>\n",
       "      <th>Country</th>\n",
       "      <th>Date</th>\n",
       "      <th>Humidity</th>\n",
       "      <th>Lat</th>\n",
       "      <th>Lng</th>\n",
       "      <th>Max Temp</th>\n",
       "      <th>Wind Speed</th>\n",
       "    </tr>\n",
       "  </thead>\n",
       "  <tbody>\n",
       "    <tr>\n",
       "      <th>0</th>\n",
       "      <td>9505</td>\n",
       "      <td>carnarvon</td>\n",
       "      <td>0</td>\n",
       "      <td>AU</td>\n",
       "      <td>1612811945</td>\n",
       "      <td>100</td>\n",
       "      <td>-24.8667</td>\n",
       "      <td>113.6333</td>\n",
       "      <td>77.000</td>\n",
       "      <td>8.23</td>\n",
       "    </tr>\n",
       "    <tr>\n",
       "      <th>1</th>\n",
       "      <td>2011314</td>\n",
       "      <td>port alfred</td>\n",
       "      <td>79</td>\n",
       "      <td>ZA</td>\n",
       "      <td>1612812024</td>\n",
       "      <td>88</td>\n",
       "      <td>-33.5906</td>\n",
       "      <td>26.8910</td>\n",
       "      <td>66.992</td>\n",
       "      <td>0.89</td>\n",
       "    </tr>\n",
       "    <tr>\n",
       "      <th>2</th>\n",
       "      <td>8303</td>\n",
       "      <td>ushuaia</td>\n",
       "      <td>0</td>\n",
       "      <td>AR</td>\n",
       "      <td>1612811989</td>\n",
       "      <td>55</td>\n",
       "      <td>-54.8000</td>\n",
       "      <td>-68.3000</td>\n",
       "      <td>62.600</td>\n",
       "      <td>7.20</td>\n",
       "    </tr>\n",
       "    <tr>\n",
       "      <th>3</th>\n",
       "      <td>5832</td>\n",
       "      <td>saint george</td>\n",
       "      <td>1</td>\n",
       "      <td>US</td>\n",
       "      <td>1612811821</td>\n",
       "      <td>27</td>\n",
       "      <td>37.1041</td>\n",
       "      <td>-113.5841</td>\n",
       "      <td>57.002</td>\n",
       "      <td>1.54</td>\n",
       "    </tr>\n",
       "    <tr>\n",
       "      <th>4</th>\n",
       "      <td>8926</td>\n",
       "      <td>nikolskoye</td>\n",
       "      <td>0</td>\n",
       "      <td>RU</td>\n",
       "      <td>1612812012</td>\n",
       "      <td>84</td>\n",
       "      <td>59.7035</td>\n",
       "      <td>30.7861</td>\n",
       "      <td>1.004</td>\n",
       "      <td>1.00</td>\n",
       "    </tr>\n",
       "  </tbody>\n",
       "</table>\n",
       "</div>"
      ],
      "text/plain": [
       "   City ID          City  Cloudiness Country        Date  Humidity      Lat  \\\n",
       "0     9505     carnarvon           0      AU  1612811945       100 -24.8667   \n",
       "1  2011314   port alfred          79      ZA  1612812024        88 -33.5906   \n",
       "2     8303       ushuaia           0      AR  1612811989        55 -54.8000   \n",
       "3     5832  saint george           1      US  1612811821        27  37.1041   \n",
       "4     8926    nikolskoye           0      RU  1612812012        84  59.7035   \n",
       "\n",
       "        Lng  Max Temp  Wind Speed  \n",
       "0  113.6333    77.000        8.23  \n",
       "1   26.8910    66.992        0.89  \n",
       "2  -68.3000    62.600        7.20  \n",
       "3 -113.5841    57.002        1.54  \n",
       "4   30.7861     1.004        1.00  "
      ]
     },
     "execution_count": 15,
     "metadata": {},
     "output_type": "execute_result"
    }
   ],
   "source": [
    "#  temperature conversion & column update\n",
    "\n",
    "new_df = cities_df\n",
    "\n",
    "# for testing only ---------------\n",
    "# maxtemp = 294.26\n",
    "# temp_f = (maxtemp - 273.15) * 9/5 +32\n",
    "# temp_f\n",
    "# --------------------------------\n",
    "\n",
    "for ind in new_df.index: \n",
    "    maxtemp = new_df['Max Temp'][ind]\n",
    "    temp_f = (maxtemp - 273.15) * 9/5 +32\n",
    "    new_df['Max Temp'][ind] = temp_f\n",
    "    \n",
    "    # for testing only\n",
    "    #print(temp_f)\n",
    "    #print(new_df['Max Temp'][ind], ind) \n",
    "    \n",
    "new_df.head()"
   ]
  },
  {
   "cell_type": "code",
   "execution_count": 16,
   "metadata": {},
   "outputs": [],
   "source": [
    "#testing\n",
    "#new_df[.to_datetime('1612595343', format='%Y%m%d', errors='ignore')\n",
    "       \n",
    "#df['Dates'] = pd.to_datetime(df['Dates'], format='%Y%m%d') \n",
    "#new_df['Date'] = pd.to_datetime(new_df['Date'], format='%y%m%d', errors='ignore')\n",
    "\n",
    "#new_df['Date'] = pd.to_datetime(new_df['Date'][0], format='%y%m%d', errors='ignore')\n",
    "#new_df['Date'] = pd.to_datetime(1612595343, format='%y%m%d', errors='ignore')\n",
    "#new_df       \n",
    "\n",
    "#cities_df['Date'][0].Date(levels(data$x), format=\"%d.%m.%Y\")\n",
    "#cities_df['Date'][0].Date(1612595343, format=\"%d.%m.%Y\")\n",
    "#x=cities_df['Date'][0]\n",
    "#x\n",
    "date='04/01/20'"
   ]
  },
  {
   "cell_type": "code",
   "execution_count": 17,
   "metadata": {},
   "outputs": [
    {
     "data": {
      "text/html": [
       "<div>\n",
       "<style scoped>\n",
       "    .dataframe tbody tr th:only-of-type {\n",
       "        vertical-align: middle;\n",
       "    }\n",
       "\n",
       "    .dataframe tbody tr th {\n",
       "        vertical-align: top;\n",
       "    }\n",
       "\n",
       "    .dataframe thead th {\n",
       "        text-align: right;\n",
       "    }\n",
       "</style>\n",
       "<table border=\"1\" class=\"dataframe\">\n",
       "  <thead>\n",
       "    <tr style=\"text-align: right;\">\n",
       "      <th></th>\n",
       "      <th>Lat</th>\n",
       "      <th>Lng</th>\n",
       "      <th>Max Temp</th>\n",
       "      <th>Humidity</th>\n",
       "      <th>Cloudiness</th>\n",
       "      <th>Wind Speed</th>\n",
       "      <th>Country</th>\n",
       "      <th>Date</th>\n",
       "    </tr>\n",
       "  </thead>\n",
       "  <tbody>\n",
       "    <tr>\n",
       "      <th>0</th>\n",
       "      <td>-24.8667</td>\n",
       "      <td>113.6333</td>\n",
       "      <td>77.000</td>\n",
       "      <td>100</td>\n",
       "      <td>0</td>\n",
       "      <td>8.23</td>\n",
       "      <td>AU</td>\n",
       "      <td>1612811945</td>\n",
       "    </tr>\n",
       "    <tr>\n",
       "      <th>1</th>\n",
       "      <td>-33.5906</td>\n",
       "      <td>26.8910</td>\n",
       "      <td>66.992</td>\n",
       "      <td>88</td>\n",
       "      <td>79</td>\n",
       "      <td>0.89</td>\n",
       "      <td>ZA</td>\n",
       "      <td>1612812024</td>\n",
       "    </tr>\n",
       "    <tr>\n",
       "      <th>2</th>\n",
       "      <td>-54.8000</td>\n",
       "      <td>-68.3000</td>\n",
       "      <td>62.600</td>\n",
       "      <td>55</td>\n",
       "      <td>0</td>\n",
       "      <td>7.20</td>\n",
       "      <td>AR</td>\n",
       "      <td>1612811989</td>\n",
       "    </tr>\n",
       "    <tr>\n",
       "      <th>3</th>\n",
       "      <td>37.1041</td>\n",
       "      <td>-113.5841</td>\n",
       "      <td>57.002</td>\n",
       "      <td>27</td>\n",
       "      <td>1</td>\n",
       "      <td>1.54</td>\n",
       "      <td>US</td>\n",
       "      <td>1612811821</td>\n",
       "    </tr>\n",
       "    <tr>\n",
       "      <th>4</th>\n",
       "      <td>59.7035</td>\n",
       "      <td>30.7861</td>\n",
       "      <td>1.004</td>\n",
       "      <td>84</td>\n",
       "      <td>0</td>\n",
       "      <td>1.00</td>\n",
       "      <td>RU</td>\n",
       "      <td>1612812012</td>\n",
       "    </tr>\n",
       "  </tbody>\n",
       "</table>\n",
       "</div>"
      ],
      "text/plain": [
       "       Lat       Lng  Max Temp  Humidity  Cloudiness  Wind Speed Country  \\\n",
       "0 -24.8667  113.6333    77.000       100           0        8.23      AU   \n",
       "1 -33.5906   26.8910    66.992        88          79        0.89      ZA   \n",
       "2 -54.8000  -68.3000    62.600        55           0        7.20      AR   \n",
       "3  37.1041 -113.5841    57.002        27           1        1.54      US   \n",
       "4  59.7035   30.7861     1.004        84           0        1.00      RU   \n",
       "\n",
       "         Date  \n",
       "0  1612811945  \n",
       "1  1612812024  \n",
       "2  1612811989  \n",
       "3  1612811821  \n",
       "4  1612812012  "
      ]
     },
     "execution_count": 17,
     "metadata": {},
     "output_type": "execute_result"
    }
   ],
   "source": [
    "# create a subset -- for testing only\n",
    "subset_cities_df = cities_df[[\"Lat\", \"Lng\", \"Max Temp\", \"Humidity\", \"Cloudiness\", \"Wind Speed\", \"Country\", \"Date\"]]\n",
    "subset_cities_df.head()"
   ]
  },
  {
   "cell_type": "code",
   "execution_count": 18,
   "metadata": {},
   "outputs": [
    {
     "data": {
      "text/html": [
       "<div>\n",
       "<style scoped>\n",
       "    .dataframe tbody tr th:only-of-type {\n",
       "        vertical-align: middle;\n",
       "    }\n",
       "\n",
       "    .dataframe tbody tr th {\n",
       "        vertical-align: top;\n",
       "    }\n",
       "\n",
       "    .dataframe thead th {\n",
       "        text-align: right;\n",
       "    }\n",
       "</style>\n",
       "<table border=\"1\" class=\"dataframe\">\n",
       "  <thead>\n",
       "    <tr style=\"text-align: right;\">\n",
       "      <th></th>\n",
       "      <th>Lat</th>\n",
       "      <th>Lng</th>\n",
       "      <th>Max Temp</th>\n",
       "      <th>Humidity</th>\n",
       "      <th>Cloudiness</th>\n",
       "      <th>Wind Speed</th>\n",
       "      <th>Date</th>\n",
       "    </tr>\n",
       "  </thead>\n",
       "  <tbody>\n",
       "    <tr>\n",
       "      <th>count</th>\n",
       "      <td>307.000000</td>\n",
       "      <td>307.000000</td>\n",
       "      <td>307.000000</td>\n",
       "      <td>307.000000</td>\n",
       "      <td>307.000000</td>\n",
       "      <td>307.000000</td>\n",
       "      <td>3.070000e+02</td>\n",
       "    </tr>\n",
       "    <tr>\n",
       "      <th>mean</th>\n",
       "      <td>20.657510</td>\n",
       "      <td>-13.234508</td>\n",
       "      <td>50.930782</td>\n",
       "      <td>68.635179</td>\n",
       "      <td>41.986971</td>\n",
       "      <td>3.945309</td>\n",
       "      <td>1.612812e+09</td>\n",
       "    </tr>\n",
       "    <tr>\n",
       "      <th>std</th>\n",
       "      <td>34.354646</td>\n",
       "      <td>90.186049</td>\n",
       "      <td>31.430286</td>\n",
       "      <td>19.957237</td>\n",
       "      <td>37.338670</td>\n",
       "      <td>2.705053</td>\n",
       "      <td>2.237666e+02</td>\n",
       "    </tr>\n",
       "    <tr>\n",
       "      <th>min</th>\n",
       "      <td>-54.800000</td>\n",
       "      <td>-175.200000</td>\n",
       "      <td>-41.800000</td>\n",
       "      <td>9.000000</td>\n",
       "      <td>0.000000</td>\n",
       "      <td>0.450000</td>\n",
       "      <td>1.612812e+09</td>\n",
       "    </tr>\n",
       "    <tr>\n",
       "      <th>25%</th>\n",
       "      <td>-9.637100</td>\n",
       "      <td>-80.974000</td>\n",
       "      <td>30.200000</td>\n",
       "      <td>58.000000</td>\n",
       "      <td>1.000000</td>\n",
       "      <td>2.060000</td>\n",
       "      <td>1.612812e+09</td>\n",
       "    </tr>\n",
       "    <tr>\n",
       "      <th>50%</th>\n",
       "      <td>31.463800</td>\n",
       "      <td>-20.273400</td>\n",
       "      <td>59.000000</td>\n",
       "      <td>70.000000</td>\n",
       "      <td>40.000000</td>\n",
       "      <td>3.600000</td>\n",
       "      <td>1.612812e+09</td>\n",
       "    </tr>\n",
       "    <tr>\n",
       "      <th>75%</th>\n",
       "      <td>46.420200</td>\n",
       "      <td>44.972950</td>\n",
       "      <td>77.000000</td>\n",
       "      <td>84.000000</td>\n",
       "      <td>75.000000</td>\n",
       "      <td>5.140000</td>\n",
       "      <td>1.612813e+09</td>\n",
       "    </tr>\n",
       "    <tr>\n",
       "      <th>max</th>\n",
       "      <td>78.218600</td>\n",
       "      <td>177.483300</td>\n",
       "      <td>93.200000</td>\n",
       "      <td>100.000000</td>\n",
       "      <td>100.000000</td>\n",
       "      <td>18.520000</td>\n",
       "      <td>1.612813e+09</td>\n",
       "    </tr>\n",
       "  </tbody>\n",
       "</table>\n",
       "</div>"
      ],
      "text/plain": [
       "              Lat         Lng    Max Temp    Humidity  Cloudiness  Wind Speed  \\\n",
       "count  307.000000  307.000000  307.000000  307.000000  307.000000  307.000000   \n",
       "mean    20.657510  -13.234508   50.930782   68.635179   41.986971    3.945309   \n",
       "std     34.354646   90.186049   31.430286   19.957237   37.338670    2.705053   \n",
       "min    -54.800000 -175.200000  -41.800000    9.000000    0.000000    0.450000   \n",
       "25%     -9.637100  -80.974000   30.200000   58.000000    1.000000    2.060000   \n",
       "50%     31.463800  -20.273400   59.000000   70.000000   40.000000    3.600000   \n",
       "75%     46.420200   44.972950   77.000000   84.000000   75.000000    5.140000   \n",
       "max     78.218600  177.483300   93.200000  100.000000  100.000000   18.520000   \n",
       "\n",
       "               Date  \n",
       "count  3.070000e+02  \n",
       "mean   1.612812e+09  \n",
       "std    2.237666e+02  \n",
       "min    1.612812e+09  \n",
       "25%    1.612812e+09  \n",
       "50%    1.612812e+09  \n",
       "75%    1.612813e+09  \n",
       "max    1.612813e+09  "
      ]
     },
     "execution_count": 18,
     "metadata": {},
     "output_type": "execute_result"
    }
   ],
   "source": [
    "# Describe the dataframe\n",
    "subset_cities_df.describe()"
   ]
  },
  {
   "cell_type": "markdown",
   "metadata": {},
   "source": [
    "## Inspect the data and remove the cities where the humidity > 100%.\n",
    "----\n",
    "Skip this step if there are no cities that have humidity > 100%. "
   ]
  },
  {
   "cell_type": "code",
   "execution_count": 19,
   "metadata": {},
   "outputs": [
    {
     "data": {
      "text/html": [
       "<div>\n",
       "<style scoped>\n",
       "    .dataframe tbody tr th:only-of-type {\n",
       "        vertical-align: middle;\n",
       "    }\n",
       "\n",
       "    .dataframe tbody tr th {\n",
       "        vertical-align: top;\n",
       "    }\n",
       "\n",
       "    .dataframe thead th {\n",
       "        text-align: right;\n",
       "    }\n",
       "</style>\n",
       "<table border=\"1\" class=\"dataframe\">\n",
       "  <thead>\n",
       "    <tr style=\"text-align: right;\">\n",
       "      <th></th>\n",
       "      <th>City ID</th>\n",
       "      <th>City</th>\n",
       "      <th>Cloudiness</th>\n",
       "      <th>Country</th>\n",
       "      <th>Date</th>\n",
       "      <th>Humidity</th>\n",
       "      <th>Lat</th>\n",
       "      <th>Lng</th>\n",
       "      <th>Max Temp</th>\n",
       "      <th>Wind Speed</th>\n",
       "    </tr>\n",
       "  </thead>\n",
       "  <tbody>\n",
       "    <tr>\n",
       "      <th>0</th>\n",
       "      <td>9505</td>\n",
       "      <td>carnarvon</td>\n",
       "      <td>0</td>\n",
       "      <td>AU</td>\n",
       "      <td>1612811945</td>\n",
       "      <td>100</td>\n",
       "      <td>-24.8667</td>\n",
       "      <td>113.6333</td>\n",
       "      <td>77.000</td>\n",
       "      <td>8.23</td>\n",
       "    </tr>\n",
       "    <tr>\n",
       "      <th>85</th>\n",
       "      <td>8915</td>\n",
       "      <td>sadove</td>\n",
       "      <td>90</td>\n",
       "      <td>UA</td>\n",
       "      <td>1612812385</td>\n",
       "      <td>100</td>\n",
       "      <td>46.2487</td>\n",
       "      <td>30.1795</td>\n",
       "      <td>35.600</td>\n",
       "      <td>9.00</td>\n",
       "    </tr>\n",
       "    <tr>\n",
       "      <th>129</th>\n",
       "      <td>9366</td>\n",
       "      <td>kuching</td>\n",
       "      <td>20</td>\n",
       "      <td>MY</td>\n",
       "      <td>1612812420</td>\n",
       "      <td>100</td>\n",
       "      <td>1.5500</td>\n",
       "      <td>110.3333</td>\n",
       "      <td>75.200</td>\n",
       "      <td>1.03</td>\n",
       "    </tr>\n",
       "    <tr>\n",
       "      <th>133</th>\n",
       "      <td>9587</td>\n",
       "      <td>kununurra</td>\n",
       "      <td>75</td>\n",
       "      <td>AU</td>\n",
       "      <td>1612812562</td>\n",
       "      <td>100</td>\n",
       "      <td>-15.7667</td>\n",
       "      <td>128.7333</td>\n",
       "      <td>77.000</td>\n",
       "      <td>3.09</td>\n",
       "    </tr>\n",
       "    <tr>\n",
       "      <th>134</th>\n",
       "      <td>7317</td>\n",
       "      <td>isangel</td>\n",
       "      <td>20</td>\n",
       "      <td>VU</td>\n",
       "      <td>1612812668</td>\n",
       "      <td>100</td>\n",
       "      <td>-19.5500</td>\n",
       "      <td>169.2667</td>\n",
       "      <td>71.600</td>\n",
       "      <td>2.34</td>\n",
       "    </tr>\n",
       "    <tr>\n",
       "      <th>148</th>\n",
       "      <td>719</td>\n",
       "      <td>bonavista</td>\n",
       "      <td>100</td>\n",
       "      <td>CA</td>\n",
       "      <td>1612812676</td>\n",
       "      <td>100</td>\n",
       "      <td>48.6499</td>\n",
       "      <td>-53.1147</td>\n",
       "      <td>30.992</td>\n",
       "      <td>3.60</td>\n",
       "    </tr>\n",
       "    <tr>\n",
       "      <th>192</th>\n",
       "      <td>73730</td>\n",
       "      <td>vila nova de milfontes</td>\n",
       "      <td>4</td>\n",
       "      <td>PT</td>\n",
       "      <td>1612812461</td>\n",
       "      <td>100</td>\n",
       "      <td>37.7238</td>\n",
       "      <td>-8.7828</td>\n",
       "      <td>55.004</td>\n",
       "      <td>0.89</td>\n",
       "    </tr>\n",
       "    <tr>\n",
       "      <th>200</th>\n",
       "      <td>9412</td>\n",
       "      <td>kabanjahe</td>\n",
       "      <td>72</td>\n",
       "      <td>ID</td>\n",
       "      <td>1612812300</td>\n",
       "      <td>100</td>\n",
       "      <td>3.1001</td>\n",
       "      <td>98.4908</td>\n",
       "      <td>75.200</td>\n",
       "      <td>1.54</td>\n",
       "    </tr>\n",
       "    <tr>\n",
       "      <th>264</th>\n",
       "      <td>8415</td>\n",
       "      <td>mazagao</td>\n",
       "      <td>75</td>\n",
       "      <td>BR</td>\n",
       "      <td>1612812531</td>\n",
       "      <td>100</td>\n",
       "      <td>-0.1150</td>\n",
       "      <td>-51.2894</td>\n",
       "      <td>77.000</td>\n",
       "      <td>5.66</td>\n",
       "    </tr>\n",
       "    <tr>\n",
       "      <th>306</th>\n",
       "      <td>8838</td>\n",
       "      <td>qovlar</td>\n",
       "      <td>90</td>\n",
       "      <td>AZ</td>\n",
       "      <td>1612812811</td>\n",
       "      <td>100</td>\n",
       "      <td>40.9480</td>\n",
       "      <td>45.7350</td>\n",
       "      <td>37.400</td>\n",
       "      <td>2.06</td>\n",
       "    </tr>\n",
       "  </tbody>\n",
       "</table>\n",
       "</div>"
      ],
      "text/plain": [
       "     City ID                    City  Cloudiness Country        Date  \\\n",
       "0       9505               carnarvon           0      AU  1612811945   \n",
       "85      8915                  sadove          90      UA  1612812385   \n",
       "129     9366                 kuching          20      MY  1612812420   \n",
       "133     9587               kununurra          75      AU  1612812562   \n",
       "134     7317                 isangel          20      VU  1612812668   \n",
       "148      719               bonavista         100      CA  1612812676   \n",
       "192    73730  vila nova de milfontes           4      PT  1612812461   \n",
       "200     9412               kabanjahe          72      ID  1612812300   \n",
       "264     8415                 mazagao          75      BR  1612812531   \n",
       "306     8838                  qovlar          90      AZ  1612812811   \n",
       "\n",
       "     Humidity      Lat       Lng  Max Temp  Wind Speed  \n",
       "0         100 -24.8667  113.6333    77.000        8.23  \n",
       "85        100  46.2487   30.1795    35.600        9.00  \n",
       "129       100   1.5500  110.3333    75.200        1.03  \n",
       "133       100 -15.7667  128.7333    77.000        3.09  \n",
       "134       100 -19.5500  169.2667    71.600        2.34  \n",
       "148       100  48.6499  -53.1147    30.992        3.60  \n",
       "192       100  37.7238   -8.7828    55.004        0.89  \n",
       "200       100   3.1001   98.4908    75.200        1.54  \n",
       "264       100  -0.1150  -51.2894    77.000        5.66  \n",
       "306       100  40.9480   45.7350    37.400        2.06  "
      ]
     },
     "execution_count": 19,
     "metadata": {},
     "output_type": "execute_result"
    }
   ],
   "source": [
    "cities_humidity_gt_100_df = cities_df[cities_df[\"Humidity\"] >= 100]\n",
    "cities_humidity_gt_100_df"
   ]
  },
  {
   "cell_type": "code",
   "execution_count": 20,
   "metadata": {},
   "outputs": [
    {
     "data": {
      "text/html": [
       "<div>\n",
       "<style scoped>\n",
       "    .dataframe tbody tr th:only-of-type {\n",
       "        vertical-align: middle;\n",
       "    }\n",
       "\n",
       "    .dataframe tbody tr th {\n",
       "        vertical-align: top;\n",
       "    }\n",
       "\n",
       "    .dataframe thead th {\n",
       "        text-align: right;\n",
       "    }\n",
       "</style>\n",
       "<table border=\"1\" class=\"dataframe\">\n",
       "  <thead>\n",
       "    <tr style=\"text-align: right;\">\n",
       "      <th></th>\n",
       "      <th>City ID</th>\n",
       "      <th>City</th>\n",
       "      <th>Cloudiness</th>\n",
       "      <th>Country</th>\n",
       "      <th>Date</th>\n",
       "      <th>Humidity</th>\n",
       "      <th>Lat</th>\n",
       "      <th>Lng</th>\n",
       "      <th>Max Temp</th>\n",
       "      <th>Wind Speed</th>\n",
       "    </tr>\n",
       "  </thead>\n",
       "  <tbody>\n",
       "    <tr>\n",
       "      <th>0</th>\n",
       "      <td>9505</td>\n",
       "      <td>carnarvon</td>\n",
       "      <td>0</td>\n",
       "      <td>AU</td>\n",
       "      <td>1612811945</td>\n",
       "      <td>100</td>\n",
       "      <td>-24.8667</td>\n",
       "      <td>113.6333</td>\n",
       "      <td>77.000</td>\n",
       "      <td>8.23</td>\n",
       "    </tr>\n",
       "    <tr>\n",
       "      <th>1</th>\n",
       "      <td>2011314</td>\n",
       "      <td>port alfred</td>\n",
       "      <td>79</td>\n",
       "      <td>ZA</td>\n",
       "      <td>1612812024</td>\n",
       "      <td>88</td>\n",
       "      <td>-33.5906</td>\n",
       "      <td>26.8910</td>\n",
       "      <td>66.992</td>\n",
       "      <td>0.89</td>\n",
       "    </tr>\n",
       "    <tr>\n",
       "      <th>2</th>\n",
       "      <td>8303</td>\n",
       "      <td>ushuaia</td>\n",
       "      <td>0</td>\n",
       "      <td>AR</td>\n",
       "      <td>1612811989</td>\n",
       "      <td>55</td>\n",
       "      <td>-54.8000</td>\n",
       "      <td>-68.3000</td>\n",
       "      <td>62.600</td>\n",
       "      <td>7.20</td>\n",
       "    </tr>\n",
       "    <tr>\n",
       "      <th>3</th>\n",
       "      <td>5832</td>\n",
       "      <td>saint george</td>\n",
       "      <td>1</td>\n",
       "      <td>US</td>\n",
       "      <td>1612811821</td>\n",
       "      <td>27</td>\n",
       "      <td>37.1041</td>\n",
       "      <td>-113.5841</td>\n",
       "      <td>57.002</td>\n",
       "      <td>1.54</td>\n",
       "    </tr>\n",
       "    <tr>\n",
       "      <th>4</th>\n",
       "      <td>8926</td>\n",
       "      <td>nikolskoye</td>\n",
       "      <td>0</td>\n",
       "      <td>RU</td>\n",
       "      <td>1612812012</td>\n",
       "      <td>84</td>\n",
       "      <td>59.7035</td>\n",
       "      <td>30.7861</td>\n",
       "      <td>1.004</td>\n",
       "      <td>1.00</td>\n",
       "    </tr>\n",
       "    <tr>\n",
       "      <th>...</th>\n",
       "      <td>...</td>\n",
       "      <td>...</td>\n",
       "      <td>...</td>\n",
       "      <td>...</td>\n",
       "      <td>...</td>\n",
       "      <td>...</td>\n",
       "      <td>...</td>\n",
       "      <td>...</td>\n",
       "      <td>...</td>\n",
       "      <td>...</td>\n",
       "    </tr>\n",
       "    <tr>\n",
       "      <th>302</th>\n",
       "      <td>8587</td>\n",
       "      <td>san cristobal</td>\n",
       "      <td>40</td>\n",
       "      <td>VE</td>\n",
       "      <td>1612812806</td>\n",
       "      <td>48</td>\n",
       "      <td>7.7669</td>\n",
       "      <td>-72.2250</td>\n",
       "      <td>89.600</td>\n",
       "      <td>5.14</td>\n",
       "    </tr>\n",
       "    <tr>\n",
       "      <th>303</th>\n",
       "      <td>8368</td>\n",
       "      <td>itaituba</td>\n",
       "      <td>40</td>\n",
       "      <td>BR</td>\n",
       "      <td>1612812568</td>\n",
       "      <td>66</td>\n",
       "      <td>-4.2761</td>\n",
       "      <td>-55.9836</td>\n",
       "      <td>87.800</td>\n",
       "      <td>2.06</td>\n",
       "    </tr>\n",
       "    <tr>\n",
       "      <th>304</th>\n",
       "      <td>2434</td>\n",
       "      <td>atar</td>\n",
       "      <td>0</td>\n",
       "      <td>MR</td>\n",
       "      <td>1612812807</td>\n",
       "      <td>12</td>\n",
       "      <td>20.5169</td>\n",
       "      <td>-13.0499</td>\n",
       "      <td>80.600</td>\n",
       "      <td>3.09</td>\n",
       "    </tr>\n",
       "    <tr>\n",
       "      <th>305</th>\n",
       "      <td>8675</td>\n",
       "      <td>pucallpa</td>\n",
       "      <td>40</td>\n",
       "      <td>PE</td>\n",
       "      <td>1612812572</td>\n",
       "      <td>58</td>\n",
       "      <td>-8.3791</td>\n",
       "      <td>-74.5539</td>\n",
       "      <td>89.600</td>\n",
       "      <td>3.09</td>\n",
       "    </tr>\n",
       "    <tr>\n",
       "      <th>306</th>\n",
       "      <td>8838</td>\n",
       "      <td>qovlar</td>\n",
       "      <td>90</td>\n",
       "      <td>AZ</td>\n",
       "      <td>1612812811</td>\n",
       "      <td>100</td>\n",
       "      <td>40.9480</td>\n",
       "      <td>45.7350</td>\n",
       "      <td>37.400</td>\n",
       "      <td>2.06</td>\n",
       "    </tr>\n",
       "  </tbody>\n",
       "</table>\n",
       "<p>307 rows × 10 columns</p>\n",
       "</div>"
      ],
      "text/plain": [
       "     City ID           City  Cloudiness Country        Date  Humidity  \\\n",
       "0       9505      carnarvon           0      AU  1612811945       100   \n",
       "1    2011314    port alfred          79      ZA  1612812024        88   \n",
       "2       8303        ushuaia           0      AR  1612811989        55   \n",
       "3       5832   saint george           1      US  1612811821        27   \n",
       "4       8926     nikolskoye           0      RU  1612812012        84   \n",
       "..       ...            ...         ...     ...         ...       ...   \n",
       "302     8587  san cristobal          40      VE  1612812806        48   \n",
       "303     8368       itaituba          40      BR  1612812568        66   \n",
       "304     2434           atar           0      MR  1612812807        12   \n",
       "305     8675       pucallpa          40      PE  1612812572        58   \n",
       "306     8838         qovlar          90      AZ  1612812811       100   \n",
       "\n",
       "         Lat       Lng  Max Temp  Wind Speed  \n",
       "0   -24.8667  113.6333    77.000        8.23  \n",
       "1   -33.5906   26.8910    66.992        0.89  \n",
       "2   -54.8000  -68.3000    62.600        7.20  \n",
       "3    37.1041 -113.5841    57.002        1.54  \n",
       "4    59.7035   30.7861     1.004        1.00  \n",
       "..       ...       ...       ...         ...  \n",
       "302   7.7669  -72.2250    89.600        5.14  \n",
       "303  -4.2761  -55.9836    87.800        2.06  \n",
       "304  20.5169  -13.0499    80.600        3.09  \n",
       "305  -8.3791  -74.5539    89.600        3.09  \n",
       "306  40.9480   45.7350    37.400        2.06  \n",
       "\n",
       "[307 rows x 10 columns]"
      ]
     },
     "execution_count": 20,
     "metadata": {},
     "output_type": "execute_result"
    }
   ],
   "source": [
    "# Inspect the data and remove the cities where the humidity > 100%\n",
    "\n",
    "cities_humidity_le_100_df = cities_df\n",
    "\n",
    "index_names = cities_humidity_le_100_df[ cities_humidity_le_100_df['Humidity'] > 100].index \n",
    "  \n",
    "# drop these row indexes from dataFrame \n",
    "cities_humidity_le_100_df.drop(index_names, inplace = True) \n",
    "cities_humidity_le_100_df"
   ]
  },
  {
   "cell_type": "code",
   "execution_count": 21,
   "metadata": {},
   "outputs": [
    {
     "data": {
      "text/plain": [
       "Int64Index([], dtype='int64')"
      ]
     },
     "execution_count": 21,
     "metadata": {},
     "output_type": "execute_result"
    }
   ],
   "source": [
    "# Get the indices of cities that have humidity over 100%.\n",
    "index_cities_humid_over100 = cities_df[ cities_df['Humidity'] > 100].index \n",
    "index_cities_humid_over100"
   ]
  },
  {
   "cell_type": "code",
   "execution_count": 22,
   "metadata": {},
   "outputs": [
    {
     "data": {
      "text/html": [
       "<div>\n",
       "<style scoped>\n",
       "    .dataframe tbody tr th:only-of-type {\n",
       "        vertical-align: middle;\n",
       "    }\n",
       "\n",
       "    .dataframe tbody tr th {\n",
       "        vertical-align: top;\n",
       "    }\n",
       "\n",
       "    .dataframe thead th {\n",
       "        text-align: right;\n",
       "    }\n",
       "</style>\n",
       "<table border=\"1\" class=\"dataframe\">\n",
       "  <thead>\n",
       "    <tr style=\"text-align: right;\">\n",
       "      <th></th>\n",
       "      <th>City ID</th>\n",
       "      <th>City</th>\n",
       "      <th>Cloudiness</th>\n",
       "      <th>Country</th>\n",
       "      <th>Date</th>\n",
       "      <th>Humidity</th>\n",
       "      <th>Lat</th>\n",
       "      <th>Lng</th>\n",
       "      <th>Max Temp</th>\n",
       "      <th>Wind Speed</th>\n",
       "    </tr>\n",
       "  </thead>\n",
       "  <tbody>\n",
       "  </tbody>\n",
       "</table>\n",
       "</div>"
      ],
      "text/plain": [
       "Empty DataFrame\n",
       "Columns: [City ID, City, Cloudiness, Country, Date, Humidity, Lat, Lng, Max Temp, Wind Speed]\n",
       "Index: []"
      ]
     },
     "execution_count": 22,
     "metadata": {},
     "output_type": "execute_result"
    }
   ],
   "source": [
    "cities_df[ cities_df['Humidity'] > 100]"
   ]
  },
  {
   "cell_type": "code",
   "execution_count": 23,
   "metadata": {},
   "outputs": [],
   "source": [
    "#### DO NOT RUN -- display for sample reference only\n",
    "# Make a new DataFrame equal to the city data to drop all humidity outliers by index.\n",
    "# Passing \"inplace=False\" will make a copy of the city_data DataFrame, which we call \"clean_city_data\"."
   ]
  },
  {
   "cell_type": "markdown",
   "metadata": {},
   "source": [
    "## Plotting the Data\n",
    "* Use proper labeling of the plots using plot titles (including date of analysis) and axes labels.\n",
    "* Save the plotted figures as .pngs."
   ]
  },
  {
   "cell_type": "markdown",
   "metadata": {},
   "source": [
    "# Latitude vs Temperature Plot"
   ]
  },
  {
   "cell_type": "code",
   "execution_count": 24,
   "metadata": {},
   "outputs": [
    {
     "data": {
      "text/plain": [
       "<function matplotlib.pyplot.close(fig=None)>"
      ]
     },
     "execution_count": 24,
     "metadata": {},
     "output_type": "execute_result"
    },
    {
     "data": {
      "image/png": "[encoded data removed]",
      "text/plain": [
       "<Figure size 432x288 with 1 Axes>"
      ]
     },
     "metadata": {
      "needs_background": "light"
     },
     "output_type": "display_data"
    }
   ],
   "source": [
    "#### scatter plot using pandas --LATITUDE vs TEMPERATURE\n",
    "\n",
    "cities_df.plot(kind=\"scatter\", x='Lat', y='Max Temp')\n",
    "\n",
    "plt.title(\"City Latitude vs Max Temperature \" + date)\n",
    "plt.xlabel(\"Latitude\")\n",
    "plt.ylabel(\"Max Temperature (F)\")\n",
    "\n",
    "# tight_layout() adjusts the visual of our graph making it easier to see\n",
    "plt.tight_layout()\n",
    "\n",
    "# Save our graph and show the graph\n",
    "# plt.savefig(\"../Images/<xyz.png\")\n",
    "\n",
    "plt.savefig(\"Images/Lat_vs_Temp_plot.png\")\n",
    "\n",
    "#plt.legend()\n",
    "plt.close"
   ]
  },
  {
   "cell_type": "markdown",
   "metadata": {},
   "source": [
    "# Latitude vs Humidity Plot"
   ]
  },
  {
   "cell_type": "code",
   "execution_count": 25,
   "metadata": {},
   "outputs": [
    {
     "data": {
      "text/plain": [
       "<function matplotlib.pyplot.close(fig=None)>"
      ]
     },
     "execution_count": 25,
     "metadata": {},
     "output_type": "execute_result"
    },
    {
     "data": {
      "image/png": "[encoded data removed]",
      "text/plain": [
       "<Figure size 432x288 with 1 Axes>"
      ]
     },
     "metadata": {
      "needs_background": "light"
     },
     "output_type": "display_data"
    }
   ],
   "source": [
    "#### scatter plot using pandas --\n",
    "\n",
    "cities_df.plot(kind=\"scatter\", x='Lat', y='Humidity')\n",
    "\n",
    "# Set a Title and labels\n",
    "plt.title(\"City Latitude vs Humidity \" + date)\n",
    "plt.xlabel(\"Latitude\")\n",
    "plt.ylabel(\"Humidity (%)\")\n",
    "\n",
    "# tight_layout() adjusts the visual of our graph making it easier to see\n",
    "plt.tight_layout()\n",
    "\n",
    "# Save our graph and show the graph\n",
    "# plt.savefig(\"../Images/<xyz.png\")\n",
    "\n",
    "plt.savefig(\"Images/Lat_vs_Humidity_plot.png\")\n",
    "\n",
    "#plt.legend()\n",
    "plt.close"
   ]
  },
  {
   "cell_type": "markdown",
   "metadata": {},
   "source": [
    "# Latitude vs Cloudiness Plot"
   ]
  },
  {
   "cell_type": "code",
   "execution_count": 26,
   "metadata": {},
   "outputs": [
    {
     "data": {
      "text/plain": [
       "<function matplotlib.pyplot.close(fig=None)>"
      ]
     },
     "execution_count": 26,
     "metadata": {},
     "output_type": "execute_result"
    },
    {
     "data": {
      "image/png": "[encoded data removed]",
      "text/plain": [
       "<Figure size 432x288 with 1 Axes>"
      ]
     },
     "metadata": {
      "needs_background": "light"
     },
     "output_type": "display_data"
    }
   ],
   "source": [
    "#### scatter plot using pandas -- Latitude vs Cloudiness\n",
    "\n",
    "cities_df.plot(kind=\"scatter\", x='Lat', y='Cloudiness')\n",
    "\n",
    "# Set a Title and labels\n",
    "plt.title(\"City Latitude vs Cloudiness \" + date)\n",
    "plt.xlabel(\"Latitude\")\n",
    "plt.ylabel(\"Cloudiness (%)\")\n",
    "\n",
    "# tight_layout() adjusts the visual of our graph making it easier to see\n",
    "plt.tight_layout()\n",
    "\n",
    "# Save our graph and show the graph\n",
    "# plt.savefig(\"../Images/<xyz.png\")\n",
    "\n",
    "plt.savefig(\"Images/Lat_vs_Cloudiness_plot.png\")\n",
    "\n",
    "#plt.legend()\n",
    "plt.close"
   ]
  },
  {
   "cell_type": "markdown",
   "metadata": {},
   "source": [
    "# Latitude vs Wind Speed Plot"
   ]
  },
  {
   "cell_type": "code",
   "execution_count": 27,
   "metadata": {},
   "outputs": [
    {
     "data": {
      "text/plain": [
       "<function matplotlib.pyplot.close(fig=None)>"
      ]
     },
     "execution_count": 27,
     "metadata": {},
     "output_type": "execute_result"
    },
    {
     "data": {
      "image/png": "[encoded data removed]",
      "text/plain": [
       "<Figure size 432x288 with 1 Axes>"
      ]
     },
     "metadata": {
      "needs_background": "light"
     },
     "output_type": "display_data"
    }
   ],
   "source": [
    "#### scatter plot using pandas --\n",
    "\n",
    "cities_df.plot(kind=\"scatter\", x='Lat', y='Wind Speed')\n",
    "\n",
    "# Set a Title and labels\n",
    "plt.title(\"City Latitude vs Wind Speed \" + date)\n",
    "plt.xlabel(\"Latitude\")\n",
    "plt.ylabel(\"Wind Speed (mph)\")\n",
    "\n",
    "# tight_layout() adjusts the visual of our graph making it easier to see\n",
    "plt.tight_layout()\n",
    "\n",
    "# Save our graph and show the graph\n",
    "# plt.savefig(\"../Images/<xyz.png\")\n",
    "\n",
    "plt.savefig(\"Images/Lat_vs_WindSpeed_plot.png\")\n",
    "\n",
    "#plt.legend()\n",
    "plt.close"
   ]
  },
  {
   "cell_type": "markdown",
   "metadata": {},
   "source": [
    "# Northern Hemisphere & Southern Hemisphere\n",
    "\n",
    "#### Northern Hemipshere:  >= 0 degrees latitude\n",
    "#### Southern Hemisphere:   < 0 degrees latitude"
   ]
  },
  {
   "cell_type": "code",
   "execution_count": 28,
   "metadata": {},
   "outputs": [
    {
     "data": {
      "text/html": [
       "<div>\n",
       "<style scoped>\n",
       "    .dataframe tbody tr th:only-of-type {\n",
       "        vertical-align: middle;\n",
       "    }\n",
       "\n",
       "    .dataframe tbody tr th {\n",
       "        vertical-align: top;\n",
       "    }\n",
       "\n",
       "    .dataframe thead th {\n",
       "        text-align: right;\n",
       "    }\n",
       "</style>\n",
       "<table border=\"1\" class=\"dataframe\">\n",
       "  <thead>\n",
       "    <tr style=\"text-align: right;\">\n",
       "      <th></th>\n",
       "      <th>City ID</th>\n",
       "      <th>City</th>\n",
       "      <th>Cloudiness</th>\n",
       "      <th>Country</th>\n",
       "      <th>Date</th>\n",
       "      <th>Humidity</th>\n",
       "      <th>Lat</th>\n",
       "      <th>Lng</th>\n",
       "      <th>Max Temp</th>\n",
       "      <th>Wind Speed</th>\n",
       "    </tr>\n",
       "  </thead>\n",
       "  <tbody>\n",
       "    <tr>\n",
       "      <th>3</th>\n",
       "      <td>5832</td>\n",
       "      <td>saint george</td>\n",
       "      <td>1</td>\n",
       "      <td>US</td>\n",
       "      <td>1612811821</td>\n",
       "      <td>27</td>\n",
       "      <td>37.1041</td>\n",
       "      <td>-113.5841</td>\n",
       "      <td>57.002</td>\n",
       "      <td>1.54</td>\n",
       "    </tr>\n",
       "    <tr>\n",
       "      <th>4</th>\n",
       "      <td>8926</td>\n",
       "      <td>nikolskoye</td>\n",
       "      <td>0</td>\n",
       "      <td>RU</td>\n",
       "      <td>1612812012</td>\n",
       "      <td>84</td>\n",
       "      <td>59.7035</td>\n",
       "      <td>30.7861</td>\n",
       "      <td>1.004</td>\n",
       "      <td>1.00</td>\n",
       "    </tr>\n",
       "    <tr>\n",
       "      <th>7</th>\n",
       "      <td>951</td>\n",
       "      <td>norman wells</td>\n",
       "      <td>1</td>\n",
       "      <td>CA</td>\n",
       "      <td>1612812062</td>\n",
       "      <td>68</td>\n",
       "      <td>65.2820</td>\n",
       "      <td>-126.8329</td>\n",
       "      <td>-32.800</td>\n",
       "      <td>3.60</td>\n",
       "    </tr>\n",
       "    <tr>\n",
       "      <th>9</th>\n",
       "      <td>9616</td>\n",
       "      <td>taiyuan</td>\n",
       "      <td>0</td>\n",
       "      <td>CN</td>\n",
       "      <td>1612812334</td>\n",
       "      <td>68</td>\n",
       "      <td>37.8694</td>\n",
       "      <td>112.5603</td>\n",
       "      <td>21.200</td>\n",
       "      <td>0.60</td>\n",
       "    </tr>\n",
       "    <tr>\n",
       "      <th>10</th>\n",
       "      <td>7955</td>\n",
       "      <td>hasaki</td>\n",
       "      <td>20</td>\n",
       "      <td>JP</td>\n",
       "      <td>1612812011</td>\n",
       "      <td>44</td>\n",
       "      <td>35.7333</td>\n",
       "      <td>140.8333</td>\n",
       "      <td>33.800</td>\n",
       "      <td>7.72</td>\n",
       "    </tr>\n",
       "    <tr>\n",
       "      <th>...</th>\n",
       "      <td>...</td>\n",
       "      <td>...</td>\n",
       "      <td>...</td>\n",
       "      <td>...</td>\n",
       "      <td>...</td>\n",
       "      <td>...</td>\n",
       "      <td>...</td>\n",
       "      <td>...</td>\n",
       "      <td>...</td>\n",
       "      <td>...</td>\n",
       "    </tr>\n",
       "    <tr>\n",
       "      <th>300</th>\n",
       "      <td>80250</td>\n",
       "      <td>sfantu gheorghe</td>\n",
       "      <td>100</td>\n",
       "      <td>RO</td>\n",
       "      <td>1612812565</td>\n",
       "      <td>83</td>\n",
       "      <td>45.8667</td>\n",
       "      <td>25.7833</td>\n",
       "      <td>48.992</td>\n",
       "      <td>1.48</td>\n",
       "    </tr>\n",
       "    <tr>\n",
       "      <th>301</th>\n",
       "      <td>7164</td>\n",
       "      <td>rosarito</td>\n",
       "      <td>1</td>\n",
       "      <td>MX</td>\n",
       "      <td>1612812369</td>\n",
       "      <td>67</td>\n",
       "      <td>32.3333</td>\n",
       "      <td>-117.0333</td>\n",
       "      <td>57.200</td>\n",
       "      <td>2.75</td>\n",
       "    </tr>\n",
       "    <tr>\n",
       "      <th>302</th>\n",
       "      <td>8587</td>\n",
       "      <td>san cristobal</td>\n",
       "      <td>40</td>\n",
       "      <td>VE</td>\n",
       "      <td>1612812806</td>\n",
       "      <td>48</td>\n",
       "      <td>7.7669</td>\n",
       "      <td>-72.2250</td>\n",
       "      <td>89.600</td>\n",
       "      <td>5.14</td>\n",
       "    </tr>\n",
       "    <tr>\n",
       "      <th>304</th>\n",
       "      <td>2434</td>\n",
       "      <td>atar</td>\n",
       "      <td>0</td>\n",
       "      <td>MR</td>\n",
       "      <td>1612812807</td>\n",
       "      <td>12</td>\n",
       "      <td>20.5169</td>\n",
       "      <td>-13.0499</td>\n",
       "      <td>80.600</td>\n",
       "      <td>3.09</td>\n",
       "    </tr>\n",
       "    <tr>\n",
       "      <th>306</th>\n",
       "      <td>8838</td>\n",
       "      <td>qovlar</td>\n",
       "      <td>90</td>\n",
       "      <td>AZ</td>\n",
       "      <td>1612812811</td>\n",
       "      <td>100</td>\n",
       "      <td>40.9480</td>\n",
       "      <td>45.7350</td>\n",
       "      <td>37.400</td>\n",
       "      <td>2.06</td>\n",
       "    </tr>\n",
       "  </tbody>\n",
       "</table>\n",
       "<p>215 rows × 10 columns</p>\n",
       "</div>"
      ],
      "text/plain": [
       "     City ID             City  Cloudiness Country        Date  Humidity  \\\n",
       "3       5832     saint george           1      US  1612811821        27   \n",
       "4       8926       nikolskoye           0      RU  1612812012        84   \n",
       "7        951     norman wells           1      CA  1612812062        68   \n",
       "9       9616          taiyuan           0      CN  1612812334        68   \n",
       "10      7955           hasaki          20      JP  1612812011        44   \n",
       "..       ...              ...         ...     ...         ...       ...   \n",
       "300    80250  sfantu gheorghe         100      RO  1612812565        83   \n",
       "301     7164         rosarito           1      MX  1612812369        67   \n",
       "302     8587    san cristobal          40      VE  1612812806        48   \n",
       "304     2434             atar           0      MR  1612812807        12   \n",
       "306     8838           qovlar          90      AZ  1612812811       100   \n",
       "\n",
       "         Lat       Lng  Max Temp  Wind Speed  \n",
       "3    37.1041 -113.5841    57.002        1.54  \n",
       "4    59.7035   30.7861     1.004        1.00  \n",
       "7    65.2820 -126.8329   -32.800        3.60  \n",
       "9    37.8694  112.5603    21.200        0.60  \n",
       "10   35.7333  140.8333    33.800        7.72  \n",
       "..       ...       ...       ...         ...  \n",
       "300  45.8667   25.7833    48.992        1.48  \n",
       "301  32.3333 -117.0333    57.200        2.75  \n",
       "302   7.7669  -72.2250    89.600        5.14  \n",
       "304  20.5169  -13.0499    80.600        3.09  \n",
       "306  40.9480   45.7350    37.400        2.06  \n",
       "\n",
       "[215 rows x 10 columns]"
      ]
     },
     "execution_count": 28,
     "metadata": {},
     "output_type": "execute_result"
    }
   ],
   "source": [
    "nor_hem_df=cities_df[ cities_df['Lat'] >= 0]\n",
    "nor_hem_df"
   ]
  },
  {
   "cell_type": "code",
   "execution_count": 29,
   "metadata": {},
   "outputs": [
    {
     "data": {
      "text/html": [
       "<div>\n",
       "<style scoped>\n",
       "    .dataframe tbody tr th:only-of-type {\n",
       "        vertical-align: middle;\n",
       "    }\n",
       "\n",
       "    .dataframe tbody tr th {\n",
       "        vertical-align: top;\n",
       "    }\n",
       "\n",
       "    .dataframe thead th {\n",
       "        text-align: right;\n",
       "    }\n",
       "</style>\n",
       "<table border=\"1\" class=\"dataframe\">\n",
       "  <thead>\n",
       "    <tr style=\"text-align: right;\">\n",
       "      <th></th>\n",
       "      <th>City ID</th>\n",
       "      <th>City</th>\n",
       "      <th>Cloudiness</th>\n",
       "      <th>Country</th>\n",
       "      <th>Date</th>\n",
       "      <th>Humidity</th>\n",
       "      <th>Lat</th>\n",
       "      <th>Lng</th>\n",
       "      <th>Max Temp</th>\n",
       "      <th>Wind Speed</th>\n",
       "    </tr>\n",
       "  </thead>\n",
       "  <tbody>\n",
       "    <tr>\n",
       "      <th>0</th>\n",
       "      <td>9505</td>\n",
       "      <td>carnarvon</td>\n",
       "      <td>0</td>\n",
       "      <td>AU</td>\n",
       "      <td>1612811945</td>\n",
       "      <td>100</td>\n",
       "      <td>-24.8667</td>\n",
       "      <td>113.6333</td>\n",
       "      <td>77.000</td>\n",
       "      <td>8.23</td>\n",
       "    </tr>\n",
       "    <tr>\n",
       "      <th>1</th>\n",
       "      <td>2011314</td>\n",
       "      <td>port alfred</td>\n",
       "      <td>79</td>\n",
       "      <td>ZA</td>\n",
       "      <td>1612812024</td>\n",
       "      <td>88</td>\n",
       "      <td>-33.5906</td>\n",
       "      <td>26.8910</td>\n",
       "      <td>66.992</td>\n",
       "      <td>0.89</td>\n",
       "    </tr>\n",
       "    <tr>\n",
       "      <th>2</th>\n",
       "      <td>8303</td>\n",
       "      <td>ushuaia</td>\n",
       "      <td>0</td>\n",
       "      <td>AR</td>\n",
       "      <td>1612811989</td>\n",
       "      <td>55</td>\n",
       "      <td>-54.8000</td>\n",
       "      <td>-68.3000</td>\n",
       "      <td>62.600</td>\n",
       "      <td>7.20</td>\n",
       "    </tr>\n",
       "    <tr>\n",
       "      <th>5</th>\n",
       "      <td>8491</td>\n",
       "      <td>coihaique</td>\n",
       "      <td>0</td>\n",
       "      <td>CL</td>\n",
       "      <td>1612811839</td>\n",
       "      <td>25</td>\n",
       "      <td>-45.5752</td>\n",
       "      <td>-72.0662</td>\n",
       "      <td>86.000</td>\n",
       "      <td>2.57</td>\n",
       "    </tr>\n",
       "    <tr>\n",
       "      <th>6</th>\n",
       "      <td>1966</td>\n",
       "      <td>bredasdorp</td>\n",
       "      <td>5</td>\n",
       "      <td>ZA</td>\n",
       "      <td>1612811743</td>\n",
       "      <td>78</td>\n",
       "      <td>-34.5322</td>\n",
       "      <td>20.0403</td>\n",
       "      <td>69.800</td>\n",
       "      <td>3.60</td>\n",
       "    </tr>\n",
       "    <tr>\n",
       "      <th>...</th>\n",
       "      <td>...</td>\n",
       "      <td>...</td>\n",
       "      <td>...</td>\n",
       "      <td>...</td>\n",
       "      <td>...</td>\n",
       "      <td>...</td>\n",
       "      <td>...</td>\n",
       "      <td>...</td>\n",
       "      <td>...</td>\n",
       "      <td>...</td>\n",
       "    </tr>\n",
       "    <tr>\n",
       "      <th>290</th>\n",
       "      <td>8360</td>\n",
       "      <td>imbituba</td>\n",
       "      <td>20</td>\n",
       "      <td>BR</td>\n",
       "      <td>1612812553</td>\n",
       "      <td>61</td>\n",
       "      <td>-28.2400</td>\n",
       "      <td>-48.6703</td>\n",
       "      <td>78.800</td>\n",
       "      <td>6.69</td>\n",
       "    </tr>\n",
       "    <tr>\n",
       "      <th>292</th>\n",
       "      <td>9384</td>\n",
       "      <td>cilegon</td>\n",
       "      <td>40</td>\n",
       "      <td>ID</td>\n",
       "      <td>1612812554</td>\n",
       "      <td>88</td>\n",
       "      <td>-6.0174</td>\n",
       "      <td>106.0538</td>\n",
       "      <td>77.000</td>\n",
       "      <td>1.03</td>\n",
       "    </tr>\n",
       "    <tr>\n",
       "      <th>293</th>\n",
       "      <td>7348</td>\n",
       "      <td>christchurch</td>\n",
       "      <td>100</td>\n",
       "      <td>NZ</td>\n",
       "      <td>1612812543</td>\n",
       "      <td>43</td>\n",
       "      <td>-43.5333</td>\n",
       "      <td>172.6333</td>\n",
       "      <td>69.800</td>\n",
       "      <td>3.60</td>\n",
       "    </tr>\n",
       "    <tr>\n",
       "      <th>303</th>\n",
       "      <td>8368</td>\n",
       "      <td>itaituba</td>\n",
       "      <td>40</td>\n",
       "      <td>BR</td>\n",
       "      <td>1612812568</td>\n",
       "      <td>66</td>\n",
       "      <td>-4.2761</td>\n",
       "      <td>-55.9836</td>\n",
       "      <td>87.800</td>\n",
       "      <td>2.06</td>\n",
       "    </tr>\n",
       "    <tr>\n",
       "      <th>305</th>\n",
       "      <td>8675</td>\n",
       "      <td>pucallpa</td>\n",
       "      <td>40</td>\n",
       "      <td>PE</td>\n",
       "      <td>1612812572</td>\n",
       "      <td>58</td>\n",
       "      <td>-8.3791</td>\n",
       "      <td>-74.5539</td>\n",
       "      <td>89.600</td>\n",
       "      <td>3.09</td>\n",
       "    </tr>\n",
       "  </tbody>\n",
       "</table>\n",
       "<p>92 rows × 10 columns</p>\n",
       "</div>"
      ],
      "text/plain": [
       "     City ID          City  Cloudiness Country        Date  Humidity      Lat  \\\n",
       "0       9505     carnarvon           0      AU  1612811945       100 -24.8667   \n",
       "1    2011314   port alfred          79      ZA  1612812024        88 -33.5906   \n",
       "2       8303       ushuaia           0      AR  1612811989        55 -54.8000   \n",
       "5       8491     coihaique           0      CL  1612811839        25 -45.5752   \n",
       "6       1966    bredasdorp           5      ZA  1612811743        78 -34.5322   \n",
       "..       ...           ...         ...     ...         ...       ...      ...   \n",
       "290     8360      imbituba          20      BR  1612812553        61 -28.2400   \n",
       "292     9384       cilegon          40      ID  1612812554        88  -6.0174   \n",
       "293     7348  christchurch         100      NZ  1612812543        43 -43.5333   \n",
       "303     8368      itaituba          40      BR  1612812568        66  -4.2761   \n",
       "305     8675      pucallpa          40      PE  1612812572        58  -8.3791   \n",
       "\n",
       "          Lng  Max Temp  Wind Speed  \n",
       "0    113.6333    77.000        8.23  \n",
       "1     26.8910    66.992        0.89  \n",
       "2    -68.3000    62.600        7.20  \n",
       "5    -72.0662    86.000        2.57  \n",
       "6     20.0403    69.800        3.60  \n",
       "..        ...       ...         ...  \n",
       "290  -48.6703    78.800        6.69  \n",
       "292  106.0538    77.000        1.03  \n",
       "293  172.6333    69.800        3.60  \n",
       "303  -55.9836    87.800        2.06  \n",
       "305  -74.5539    89.600        3.09  \n",
       "\n",
       "[92 rows x 10 columns]"
      ]
     },
     "execution_count": 29,
     "metadata": {},
     "output_type": "execute_result"
    }
   ],
   "source": [
    "sou_hem_df=cities_df[ cities_df['Lat'] < 0]\n",
    "sou_hem_df"
   ]
  },
  {
   "cell_type": "code",
   "execution_count": 30,
   "metadata": {},
   "outputs": [
    {
     "data": {
      "text/plain": [
       "0     -24.8667\n",
       "1     -33.5906\n",
       "2     -54.8000\n",
       "3      37.1041\n",
       "4      59.7035\n",
       "        ...   \n",
       "302     7.7669\n",
       "303    -4.2761\n",
       "304    20.5169\n",
       "305    -8.3791\n",
       "306    40.9480\n",
       "Name: Lat, Length: 307, dtype: float64"
      ]
     },
     "execution_count": 30,
     "metadata": {},
     "output_type": "execute_result"
    }
   ],
   "source": [
    "# Latitude vs. Temperature Plot -- All Latitudes\n",
    "lat=cities_df['Lat']\n",
    "lat"
   ]
  },
  {
   "cell_type": "code",
   "execution_count": 31,
   "metadata": {},
   "outputs": [
    {
     "data": {
      "text/plain": [
       "3      37.1041\n",
       "4      59.7035\n",
       "7      65.2820\n",
       "9      37.8694\n",
       "10     35.7333\n",
       "        ...   \n",
       "300    45.8667\n",
       "301    32.3333\n",
       "302     7.7669\n",
       "304    20.5169\n",
       "306    40.9480\n",
       "Name: Lat, Length: 215, dtype: float64"
      ]
     },
     "execution_count": 31,
     "metadata": {},
     "output_type": "execute_result"
    }
   ],
   "source": [
    "# split for Northern Hemisphere & Southern Hemisphere\n",
    "n_lat = nor_hem_df['Lat']\n",
    "n_lat    "
   ]
  },
  {
   "cell_type": "code",
   "execution_count": 32,
   "metadata": {},
   "outputs": [
    {
     "data": {
      "text/plain": [
       "1.2897"
      ]
     },
     "execution_count": 32,
     "metadata": {},
     "output_type": "execute_result"
    }
   ],
   "source": [
    "# get latitude min & max for x axis\n",
    "min_n_lat = n_lat.min()\n",
    "min_n_lat"
   ]
  },
  {
   "cell_type": "code",
   "execution_count": 33,
   "metadata": {},
   "outputs": [
    {
     "data": {
      "text/plain": [
       "78.2186"
      ]
     },
     "execution_count": 33,
     "metadata": {},
     "output_type": "execute_result"
    }
   ],
   "source": [
    "max_n_lat = n_lat.max()\n",
    "max_n_lat"
   ]
  },
  {
   "cell_type": "code",
   "execution_count": 34,
   "metadata": {},
   "outputs": [
    {
     "data": {
      "text/plain": [
       "0     -24.8667\n",
       "1     -33.5906\n",
       "2     -54.8000\n",
       "5     -45.5752\n",
       "6     -34.5322\n",
       "        ...   \n",
       "290   -28.2400\n",
       "292    -6.0174\n",
       "293   -43.5333\n",
       "303    -4.2761\n",
       "305    -8.3791\n",
       "Name: Lat, Length: 92, dtype: float64"
      ]
     },
     "execution_count": 34,
     "metadata": {},
     "output_type": "execute_result"
    }
   ],
   "source": [
    "# split for Northern Hemisphere & Southern Hemisphere\n",
    "s_lat = sou_hem_df['Lat']\n",
    "s_lat  "
   ]
  },
  {
   "cell_type": "code",
   "execution_count": 35,
   "metadata": {},
   "outputs": [
    {
     "data": {
      "text/plain": [
       "-54.8"
      ]
     },
     "execution_count": 35,
     "metadata": {},
     "output_type": "execute_result"
    }
   ],
   "source": [
    "# get latitude min & max for x axis\n",
    "min_s_lat = s_lat.min()\n",
    "min_s_lat"
   ]
  },
  {
   "cell_type": "code",
   "execution_count": 36,
   "metadata": {},
   "outputs": [
    {
     "data": {
      "text/plain": [
       "-0.115"
      ]
     },
     "execution_count": 36,
     "metadata": {},
     "output_type": "execute_result"
    }
   ],
   "source": [
    "max_s_lat = s_lat.max()\n",
    "max_s_lat"
   ]
  },
  {
   "cell_type": "code",
   "execution_count": 37,
   "metadata": {},
   "outputs": [
    {
     "data": {
      "text/plain": [
       "3      57.002\n",
       "4       1.004\n",
       "7     -32.800\n",
       "9      21.200\n",
       "10     33.800\n",
       "        ...  \n",
       "300    48.992\n",
       "301    57.200\n",
       "302    89.600\n",
       "304    80.600\n",
       "306    37.400\n",
       "Name: Max Temp, Length: 215, dtype: float64"
      ]
     },
     "execution_count": 37,
     "metadata": {},
     "output_type": "execute_result"
    }
   ],
   "source": [
    "n_temp=nor_hem_df['Max Temp']\n",
    "n_temp"
   ]
  },
  {
   "cell_type": "code",
   "execution_count": 38,
   "metadata": {},
   "outputs": [
    {
     "data": {
      "text/plain": [
       "-41.799999999999955"
      ]
     },
     "execution_count": 38,
     "metadata": {},
     "output_type": "execute_result"
    }
   ],
   "source": [
    "# get Temperature min & max for y axis -- NORTHERN HEMISPHERE\n",
    "min_n_temp = n_temp.min()\n",
    "min_n_temp"
   ]
  },
  {
   "cell_type": "code",
   "execution_count": 39,
   "metadata": {},
   "outputs": [
    {
     "data": {
      "text/plain": [
       "93.2"
      ]
     },
     "execution_count": 39,
     "metadata": {},
     "output_type": "execute_result"
    }
   ],
   "source": [
    "max_n_temp = n_temp.max()\n",
    "max_n_temp"
   ]
  },
  {
   "cell_type": "code",
   "execution_count": 40,
   "metadata": {},
   "outputs": [
    {
     "data": {
      "text/plain": [
       "0      77.000\n",
       "1      66.992\n",
       "2      62.600\n",
       "5      86.000\n",
       "6      69.800\n",
       "        ...  \n",
       "290    78.800\n",
       "292    77.000\n",
       "293    69.800\n",
       "303    87.800\n",
       "305    89.600\n",
       "Name: Max Temp, Length: 92, dtype: float64"
      ]
     },
     "execution_count": 40,
     "metadata": {},
     "output_type": "execute_result"
    }
   ],
   "source": [
    "# get Temperature min & max for y axis -- SOUTHERN HEMISPHERE\n",
    "s_temp=sou_hem_df['Max Temp']\n",
    "s_temp"
   ]
  },
  {
   "cell_type": "code",
   "execution_count": 41,
   "metadata": {},
   "outputs": [
    {
     "data": {
      "text/plain": [
       "48.2"
      ]
     },
     "execution_count": 41,
     "metadata": {},
     "output_type": "execute_result"
    }
   ],
   "source": [
    "# get Temperatrue min & max for y axis\n",
    "min_s_temp = s_temp.min()\n",
    "min_s_temp"
   ]
  },
  {
   "cell_type": "code",
   "execution_count": 42,
   "metadata": {},
   "outputs": [
    {
     "data": {
      "text/plain": [
       "93.2"
      ]
     },
     "execution_count": 42,
     "metadata": {},
     "output_type": "execute_result"
    }
   ],
   "source": [
    "max_s_temp = s_temp.max()\n",
    "max_s_temp"
   ]
  },
  {
   "cell_type": "markdown",
   "metadata": {},
   "source": [
    "# Linear Regression"
   ]
  },
  {
   "cell_type": "markdown",
   "metadata": {},
   "source": [
    "### Northern Hemisphere - Max Temp vs. Latitude Linear Regression"
   ]
  },
  {
   "cell_type": "code",
   "execution_count": 43,
   "metadata": {},
   "outputs": [
    {
     "data": {
      "text/plain": [
       "(-0.8318761664310614, 2.2092361782498696e-56)"
      ]
     },
     "execution_count": 43,
     "metadata": {},
     "output_type": "execute_result"
    }
   ],
   "source": [
    "# create the scatter plot - line -- Northern Hemisphere\n",
    "# Dependencies\n",
    "\n",
    "from matplotlib import pyplot as plt\n",
    "from scipy.stats import linregress\n",
    "from sklearn import datasets\n",
    "from scipy.stats import sem\n",
    "\n",
    "import numpy as np\n",
    "import pandas as pd\n",
    "import scipy.stats as st\n",
    "\n",
    "lats = n_lat\n",
    "temps = nor_hem_df['Max Temp']\n",
    "\n",
    "correlation = st.pearsonr(lats, temps)\n",
    "correlation"
   ]
  },
  {
   "cell_type": "code",
   "execution_count": 44,
   "metadata": {},
   "outputs": [
    {
     "data": {
      "image/png": "[encoded data removed]",
      "text/plain": [
       "<Figure size 432x288 with 1 Axes>"
      ]
     },
     "metadata": {
      "needs_background": "light"
     },
     "output_type": "display_data"
    }
   ],
   "source": [
    "# Add the linear regression equation and line to plot\n",
    "x_values = n_lat\n",
    "y_values = nor_hem_df['Max Temp']\n",
    "\n",
    "(slope, intercept, rvalue, pvalue, stderr) = linregress(x_values, y_values)\n",
    "regress_values = x_values * slope + intercept\n",
    "\n",
    "line_eq = \"y = \" + str(round(slope,2)) + \"x + \" + str(round(intercept,2))\n",
    "\n",
    "plt.scatter(x_values,y_values)\n",
    "plt.plot(x_values,regress_values,\"r-\")\n",
    "plt.annotate(line_eq,(6,10),fontsize=15,color=\"red\")\n",
    "\n",
    "# Set a Title and labels\n",
    "plt.title(\"Northern Hemisphere - Max Temp vs Latitude Linear Regression\" + date)\n",
    "plt.xlabel(\"Latitude\")\n",
    "plt.ylabel(\"Max Temperature (F)\")\n",
    "\n",
    "plt.savefig(\"Images/N_Lat_vs_Temp_with_line_plot.png\")\n",
    "\n",
    "plt.show()"
   ]
  },
  {
   "cell_type": "markdown",
   "metadata": {},
   "source": [
    "### Southern Hemisphere - Max Temp vs. Latitude Linear Regression"
   ]
  },
  {
   "cell_type": "code",
   "execution_count": 45,
   "metadata": {},
   "outputs": [
    {
     "data": {
      "text/plain": [
       "(0.6109133614104867, 1.0008361982040778e-10)"
      ]
     },
     "execution_count": 45,
     "metadata": {},
     "output_type": "execute_result"
    }
   ],
   "source": [
    "#create the scatter plot - line -- Northern Hemisphere\n",
    "# Dependencies\n",
    "from matplotlib import pyplot as plt\n",
    "from scipy.stats import linregress\n",
    "from sklearn import datasets\n",
    "from scipy.stats import sem\n",
    "\n",
    "import numpy as np\n",
    "import pandas as pd\n",
    "import scipy.stats as st\n",
    "\n",
    "lats = s_lat\n",
    "temps = sou_hem_df['Max Temp']\n",
    "\n",
    "correlation = st.pearsonr(lats, temps)\n",
    "correlation"
   ]
  },
  {
   "cell_type": "code",
   "execution_count": 46,
   "metadata": {},
   "outputs": [
    {
     "data": {
      "image/png": "[encoded data removed]",
      "text/plain": [
       "<Figure size 432x288 with 1 Axes>"
      ]
     },
     "metadata": {
      "needs_background": "light"
     },
     "output_type": "display_data"
    }
   ],
   "source": [
    "# Add the linear regression equation and line to plot\n",
    "x_values = s_lat\n",
    "y_values = sou_hem_df['Max Temp']\n",
    "\n",
    "(slope, intercept, rvalue, pvalue, stderr) = linregress(x_values, y_values)\n",
    "regress_values = x_values * slope + intercept\n",
    "\n",
    "line_eq = \"y = \" + str(round(slope,2)) + \"x + \" + str(round(intercept,2))\n",
    "\n",
    "plt.scatter(x_values,y_values)\n",
    "plt.plot(x_values,regress_values,\"r-\")\n",
    "plt.annotate(line_eq,(6,10),fontsize=15,color=\"red\")\n",
    "\n",
    "# Set a Title and labels\n",
    "plt.title(\"Southern Hemisphere - Max Temp vs Latitude Linear Regression \" + date)\n",
    "plt.xlabel(\"Latitude\")\n",
    "plt.ylabel(\"Max Temperature (F)\")\n",
    "\n",
    "plt.savefig(\"Images/N_Lat_vs_Temp_with_line_plot.png\")\n",
    "\n",
    "plt.show()"
   ]
  },
  {
   "cell_type": "markdown",
   "metadata": {},
   "source": [
    "#### Nothern Hemisphere Humidity"
   ]
  },
  {
   "cell_type": "code",
   "execution_count": 47,
   "metadata": {},
   "outputs": [
    {
     "data": {
      "text/plain": [
       "3       27\n",
       "4       84\n",
       "7       68\n",
       "9       68\n",
       "10      44\n",
       "      ... \n",
       "300     83\n",
       "301     67\n",
       "302     48\n",
       "304     12\n",
       "306    100\n",
       "Name: Humidity, Length: 215, dtype: int64"
      ]
     },
     "execution_count": 47,
     "metadata": {},
     "output_type": "execute_result"
    }
   ],
   "source": [
    "temp_nor_hum = nor_hem_df['Humidity']\n",
    "temp_nor_hum"
   ]
  },
  {
   "cell_type": "code",
   "execution_count": 48,
   "metadata": {},
   "outputs": [
    {
     "data": {
      "text/plain": [
       "9"
      ]
     },
     "execution_count": 48,
     "metadata": {},
     "output_type": "execute_result"
    }
   ],
   "source": [
    "# get Temperatrue min & max for y axis\n",
    "min_nor_humidity = temp_nor_hum.min()\n",
    "min_nor_humidity"
   ]
  },
  {
   "cell_type": "code",
   "execution_count": 49,
   "metadata": {},
   "outputs": [
    {
     "data": {
      "text/plain": [
       "100"
      ]
     },
     "execution_count": 49,
     "metadata": {},
     "output_type": "execute_result"
    }
   ],
   "source": [
    "max_nor_humidity = temp_nor_hum.max()\n",
    "max_nor_humidity"
   ]
  },
  {
   "cell_type": "markdown",
   "metadata": {},
   "source": [
    "#### Southern Hemisphere Humidity"
   ]
  },
  {
   "cell_type": "code",
   "execution_count": 50,
   "metadata": {},
   "outputs": [
    {
     "data": {
      "text/plain": [
       "0      100\n",
       "1       88\n",
       "2       55\n",
       "5       25\n",
       "6       78\n",
       "      ... \n",
       "290     61\n",
       "292     88\n",
       "293     43\n",
       "303     66\n",
       "305     58\n",
       "Name: Humidity, Length: 92, dtype: int64"
      ]
     },
     "execution_count": 50,
     "metadata": {},
     "output_type": "execute_result"
    }
   ],
   "source": [
    "temp_sou_hum = sou_hem_df['Humidity']\n",
    "temp_sou_hum"
   ]
  },
  {
   "cell_type": "code",
   "execution_count": 51,
   "metadata": {},
   "outputs": [
    {
     "data": {
      "text/plain": [
       "21"
      ]
     },
     "execution_count": 51,
     "metadata": {},
     "output_type": "execute_result"
    }
   ],
   "source": [
    "# get Temperatrue min & max for y axis\n",
    "min_sou_humidity = temp_sou_hum.min()\n",
    "min_sou_humidity"
   ]
  },
  {
   "cell_type": "code",
   "execution_count": 52,
   "metadata": {},
   "outputs": [
    {
     "data": {
      "text/plain": [
       "100"
      ]
     },
     "execution_count": 52,
     "metadata": {},
     "output_type": "execute_result"
    }
   ],
   "source": [
    "max_sou_humidity = temp_sou_hum.max()\n",
    "max_sou_humidity"
   ]
  },
  {
   "cell_type": "markdown",
   "metadata": {},
   "source": [
    "#### Northern Hemisphere - Humidity (%) vs. Latitude Linear Regression"
   ]
  },
  {
   "cell_type": "code",
   "execution_count": 53,
   "metadata": {},
   "outputs": [
    {
     "data": {
      "text/plain": [
       "(0.08399294342634205, 0.21998524876570477)"
      ]
     },
     "execution_count": 53,
     "metadata": {},
     "output_type": "execute_result"
    }
   ],
   "source": [
    "#create the scatter plot - line -- Northern Hemisphere\n",
    "# Dependencies\n",
    "from matplotlib import pyplot as plt\n",
    "from scipy.stats import linregress\n",
    "from sklearn import datasets\n",
    "from scipy.stats import sem\n",
    "\n",
    "import numpy as np\n",
    "import pandas as pd\n",
    "import scipy.stats as st\n",
    "\n",
    "lats = n_lat\n",
    "hums = nor_hem_df['Humidity']\n",
    "\n",
    "correlation = st.pearsonr(lats, hums)\n",
    "correlation"
   ]
  },
  {
   "cell_type": "code",
   "execution_count": 54,
   "metadata": {},
   "outputs": [
    {
     "data": {
      "image/png": "[encoded data removed]",
      "text/plain": [
       "<Figure size 432x288 with 1 Axes>"
      ]
     },
     "metadata": {
      "needs_background": "light"
     },
     "output_type": "display_data"
    }
   ],
   "source": [
    "# Add the linear regression equation and line to plot\n",
    "x_values = n_lat\n",
    "y_values = nor_hem_df['Humidity']\n",
    "\n",
    "(slope, intercept, rvalue, pvalue, stderr) = linregress(x_values, y_values)\n",
    "regress_values = x_values * slope + intercept\n",
    "\n",
    "line_eq = \"y = \" + str(round(slope,2)) + \"x + \" + str(round(intercept,2))\n",
    "\n",
    "plt.scatter(x_values,y_values)\n",
    "plt.plot(x_values,regress_values,\"r-\")\n",
    "plt.annotate(line_eq,(6,10),fontsize=15,color=\"red\")\n",
    "\n",
    "# Set a Title and labels\n",
    "plt.title(\"Northern Hemisphere - Humidity vs Latitude Linear Regression \" + date)\n",
    "plt.xlabel(\"Latitude\")\n",
    "plt.ylabel(\"Humidity\")\n",
    "\n",
    "plt.savefig(\"Images/N_Lat_vs_Humidity_with_line_plot.png\")\n",
    "\n",
    "plt.show()"
   ]
  },
  {
   "cell_type": "code",
   "execution_count": 55,
   "metadata": {},
   "outputs": [
    {
     "name": "stdout",
     "output_type": "stream",
     "text": [
      "The r-value: is:  0.08399294342634206\n"
     ]
    }
   ],
   "source": [
    "print(\"The r-value: is: \", rvalue)"
   ]
  },
  {
   "cell_type": "markdown",
   "metadata": {},
   "source": [
    "#### Southern Hemisphere - Humidity (%) vs. Latitude Linear Regression"
   ]
  },
  {
   "cell_type": "code",
   "execution_count": 56,
   "metadata": {},
   "outputs": [
    {
     "data": {
      "text/plain": [
       "(0.2864783300479563, 0.005631272280898693)"
      ]
     },
     "execution_count": 56,
     "metadata": {},
     "output_type": "execute_result"
    }
   ],
   "source": [
    "#create the scatter plot - line -- Northern Hemisphere\n",
    "# Dependencies\n",
    "from matplotlib import pyplot as plt\n",
    "from scipy.stats import linregress\n",
    "from sklearn import datasets\n",
    "from scipy.stats import sem\n",
    "\n",
    "import numpy as np\n",
    "import pandas as pd\n",
    "import scipy.stats as st\n",
    "\n",
    "lats = s_lat\n",
    "hums = sou_hem_df['Humidity']\n",
    "\n",
    "correlation = st.pearsonr(lats, hums)\n",
    "correlation"
   ]
  },
  {
   "cell_type": "code",
   "execution_count": 57,
   "metadata": {},
   "outputs": [
    {
     "data": {
      "image/png": "[encoded data removed]",
      "text/plain": [
       "<Figure size 432x288 with 1 Axes>"
      ]
     },
     "metadata": {
      "needs_background": "light"
     },
     "output_type": "display_data"
    }
   ],
   "source": [
    "# Add the linear regression equation and line to plot\n",
    "x_values = s_lat\n",
    "y_values = sou_hem_df['Humidity']\n",
    "\n",
    "(slope, intercept, rvalue, pvalue, stderr) = linregress(x_values, y_values)\n",
    "regress_values = x_values * slope + intercept\n",
    "\n",
    "line_eq = \"y = \" + str(round(slope,2)) + \"x + \" + str(round(intercept,2))\n",
    "\n",
    "plt.scatter(x_values,y_values)\n",
    "plt.plot(x_values,regress_values,\"r-\")\n",
    "plt.annotate(line_eq,(6,10),fontsize=15,color=\"red\")\n",
    "\n",
    "# Set a Title and labels\n",
    "plt.title(\"Southern Hemisphere - Humidity vs Latitude Linear Regression \" + date)\n",
    "plt.xlabel(\"Latitude\")\n",
    "plt.ylabel(\"Humidity\")\n",
    " \n",
    "plt.savefig(\"Images/S_Lat_vs_Humidity_with_line_plot.png\")\n",
    "\n",
    "plt.show()"
   ]
  },
  {
   "cell_type": "code",
   "execution_count": 58,
   "metadata": {},
   "outputs": [
    {
     "data": {
      "text/plain": [
       "'y = 0.42x + 82.17'"
      ]
     },
     "execution_count": 58,
     "metadata": {},
     "output_type": "execute_result"
    }
   ],
   "source": [
    "line_eq "
   ]
  },
  {
   "cell_type": "code",
   "execution_count": 59,
   "metadata": {},
   "outputs": [
    {
     "name": "stdout",
     "output_type": "stream",
     "text": [
      "The r-value: is:  0.2864783300479564\n"
     ]
    }
   ],
   "source": [
    "print(\"The r-value: is: \", rvalue)"
   ]
  },
  {
   "cell_type": "markdown",
   "metadata": {},
   "source": [
    "#### Northern Hemisphere - Cloudiness (%) vs. Latitude Linear Regression"
   ]
  },
  {
   "cell_type": "code",
   "execution_count": 60,
   "metadata": {},
   "outputs": [
    {
     "data": {
      "text/plain": [
       "(0.058049613246056994, 0.39703587090672243)"
      ]
     },
     "execution_count": 60,
     "metadata": {},
     "output_type": "execute_result"
    }
   ],
   "source": [
    "#create the scatter plot - line -- Northern Hemisphere\n",
    "# Dependencies\n",
    "from matplotlib import pyplot as plt\n",
    "from scipy.stats import linregress\n",
    "from sklearn import datasets\n",
    "from scipy.stats import sem\n",
    "\n",
    "import numpy as np\n",
    "import pandas as pd\n",
    "import scipy.stats as st\n",
    "\n",
    "lats = n_lat\n",
    "clouds = nor_hem_df['Cloudiness']\n",
    "\n",
    "correlation = st.pearsonr(lats, clouds)\n",
    "correlation"
   ]
  },
  {
   "cell_type": "code",
   "execution_count": 61,
   "metadata": {},
   "outputs": [
    {
     "data": {
      "image/png": "[encoded data removed]",
      "text/plain": [
       "<Figure size 432x288 with 1 Axes>"
      ]
     },
     "metadata": {
      "needs_background": "light"
     },
     "output_type": "display_data"
    }
   ],
   "source": [
    "# Add the linear regression equation and line to plot\n",
    "x_values = n_lat\n",
    "y_values = nor_hem_df['Cloudiness']\n",
    "\n",
    "(slope, intercept, rvalue, pvalue, stderr) = linregress(x_values, y_values)\n",
    "regress_values = x_values * slope + intercept\n",
    "\n",
    "line_eq = \"y = \" + str(round(slope,2)) + \"x + \" + str(round(intercept,2))\n",
    "\n",
    "plt.scatter(x_values,y_values)\n",
    "plt.plot(x_values,regress_values,\"r-\")\n",
    "plt.annotate(line_eq,(6,10),fontsize=15,color=\"red\")\n",
    "\n",
    "# Set a Title and labels\n",
    "plt.title(\"Northern Hemisphere - Cloudines (%) vs Latitude Linear Regression \" + date)\n",
    "plt.xlabel(\"Latitude\")\n",
    "plt.ylabel(\"Cloudiness\")\n",
    "\n",
    "plt.savefig(\"Images/N_Cloudat_vs_Humidity_with_line_plot.png\")\n",
    "\n",
    "plt.show()"
   ]
  },
  {
   "cell_type": "code",
   "execution_count": 62,
   "metadata": {},
   "outputs": [
    {
     "name": "stdout",
     "output_type": "stream",
     "text": [
      "The r-value: is:  0.05804961324605699\n"
     ]
    }
   ],
   "source": [
    "print(\"The r-value: is: \", rvalue)"
   ]
  },
  {
   "cell_type": "markdown",
   "metadata": {},
   "source": [
    "#### Southern Hemisphere - Cloudiness (%) vs. Latitude Linear Regression"
   ]
  },
  {
   "cell_type": "code",
   "execution_count": 63,
   "metadata": {},
   "outputs": [
    {
     "data": {
      "text/plain": [
       "(0.20941075160931794, 0.045133694491412316)"
      ]
     },
     "execution_count": 63,
     "metadata": {},
     "output_type": "execute_result"
    }
   ],
   "source": [
    "#create the scatter plot - line -- Southern Hemisphere\n",
    "# Dependencies\n",
    "from matplotlib import pyplot as plt\n",
    "from scipy.stats import linregress\n",
    "from sklearn import datasets\n",
    "from scipy.stats import sem\n",
    "\n",
    "import numpy as np\n",
    "import pandas as pd\n",
    "import scipy.stats as st\n",
    "\n",
    "lats = s_lat\n",
    "clouds = sou_hem_df['Cloudiness']\n",
    "\n",
    "correlation = st.pearsonr(lats, clouds)\n",
    "correlation"
   ]
  },
  {
   "cell_type": "code",
   "execution_count": 64,
   "metadata": {},
   "outputs": [
    {
     "data": {
      "image/png": "[encoded data removed]",
      "text/plain": [
       "<Figure size 432x288 with 1 Axes>"
      ]
     },
     "metadata": {
      "needs_background": "light"
     },
     "output_type": "display_data"
    }
   ],
   "source": [
    "# Add the linear regression equation and line to plot\n",
    "x_values = s_lat\n",
    "y_values = sou_hem_df['Cloudiness']\n",
    "\n",
    "(slope, intercept, rvalue, pvalue, stderr) = linregress(x_values, y_values)\n",
    "regress_values = x_values * slope + intercept\n",
    "\n",
    "line_eq = \"y = \" + str(round(slope,2)) + \"x + \" + str(round(intercept,2))\n",
    "\n",
    "plt.scatter(x_values,y_values)\n",
    "plt.plot(x_values,regress_values,\"r-\")\n",
    "plt.annotate(line_eq,(6,10),fontsize=15,color=\"red\")\n",
    "\n",
    "# Set a Title and labels\n",
    "plt.title(\"Southern Hemisphere - Cloudines (%) vs Latitude Linear Regression \" + date)\n",
    "plt.xlabel(\"Latitude\")\n",
    "plt.ylabel(\"Cloudiness\")\n",
    "\n",
    "plt.savefig(\"Images/N_Cloud_vs_Humidity_with_line_plot.png\")\n",
    "\n",
    "plt.show()"
   ]
  },
  {
   "cell_type": "code",
   "execution_count": 65,
   "metadata": {},
   "outputs": [
    {
     "name": "stdout",
     "output_type": "stream",
     "text": [
      "The r-value: is:  0.20941075160931777\n"
     ]
    }
   ],
   "source": [
    "print(\"The r-value: is: \", rvalue)"
   ]
  },
  {
   "cell_type": "markdown",
   "metadata": {},
   "source": [
    "#### Northern Hemisphere - Wind Speed (mph) vs. Latitude Linear Regression"
   ]
  },
  {
   "cell_type": "code",
   "execution_count": 66,
   "metadata": {},
   "outputs": [
    {
     "data": {
      "text/plain": [
       "(0.11094105663550415, 0.10475116495268531)"
      ]
     },
     "execution_count": 66,
     "metadata": {},
     "output_type": "execute_result"
    }
   ],
   "source": [
    "#create the scatter plot - line -- Northern Hemisphere\n",
    "# Dependencies\n",
    "from matplotlib import pyplot as plt\n",
    "from scipy.stats import linregress\n",
    "from sklearn import datasets\n",
    "from scipy.stats import sem\n",
    "\n",
    "import numpy as np\n",
    "import pandas as pd\n",
    "import scipy.stats as st\n",
    "\n",
    "lats = n_lat\n",
    "winds = nor_hem_df['Wind Speed']\n",
    "\n",
    "correlation = st.pearsonr(lats, winds)\n",
    "correlation"
   ]
  },
  {
   "cell_type": "code",
   "execution_count": 67,
   "metadata": {},
   "outputs": [
    {
     "data": {
      "image/png": "[encoded data removed]",
      "text/plain": [
       "<Figure size 432x288 with 1 Axes>"
      ]
     },
     "metadata": {
      "needs_background": "light"
     },
     "output_type": "display_data"
    }
   ],
   "source": [
    "# Add the linear regression equation and line to plot\n",
    "x_values = n_lat\n",
    "y_values = nor_hem_df['Wind Speed']\n",
    "\n",
    "(slope, intercept, rvalue, pvalue, stderr) = linregress(x_values, y_values)\n",
    "regress_values = x_values * slope + intercept\n",
    "\n",
    "line_eq = \"y = \" + str(round(slope,2)) + \"x + \" + str(round(intercept,2))\n",
    "\n",
    "plt.scatter(x_values,y_values)\n",
    "plt.plot(x_values,regress_values,\"r-\")\n",
    "plt.annotate(line_eq,(6,10),fontsize=15,color=\"red\")\n",
    "\n",
    "# Set a Title and labels\n",
    "plt.title(\"Northern Hemisphere - Wind Speed (mph) vs Latitude Linear Regression \" + date)\n",
    "plt.xlabel(\"Latitude\")\n",
    "plt.ylabel(\"Wind Speed (mph)\")\n",
    "\n",
    "plt.savefig(\"Images/N_WindSpeed_vs_Lat_with_line_plot.png\")\n",
    "\n",
    "plt.show()"
   ]
  },
  {
   "cell_type": "code",
   "execution_count": 68,
   "metadata": {},
   "outputs": [
    {
     "name": "stdout",
     "output_type": "stream",
     "text": [
      "The r-value: is:  0.1109410566355041\n"
     ]
    }
   ],
   "source": [
    "print(\"The r-value: is: \", rvalue)"
   ]
  },
  {
   "cell_type": "markdown",
   "metadata": {},
   "source": [
    "#### Southern Hemisphere - Wind Speed (mph) vs. Latitude Linear Regression"
   ]
  },
  {
   "cell_type": "code",
   "execution_count": 69,
   "metadata": {},
   "outputs": [
    {
     "data": {
      "text/plain": [
       "(-0.05299652305746699, 0.6158592474478369)"
      ]
     },
     "execution_count": 69,
     "metadata": {},
     "output_type": "execute_result"
    }
   ],
   "source": [
    "#create the scatter plot - line -- Northern Hemisphere\n",
    "# Dependencies\n",
    "from matplotlib import pyplot as plt\n",
    "from scipy.stats import linregress\n",
    "from sklearn import datasets\n",
    "from scipy.stats import sem\n",
    "\n",
    "import numpy as np\n",
    "import pandas as pd\n",
    "import scipy.stats as st\n",
    "\n",
    "lats = s_lat\n",
    "winds = sou_hem_df['Wind Speed']\n",
    "\n",
    "correlation = st.pearsonr(lats, winds)\n",
    "correlation"
   ]
  },
  {
   "cell_type": "code",
   "execution_count": 70,
   "metadata": {},
   "outputs": [
    {
     "data": {
      "image/png": "[encoded data removed]",
      "text/plain": [
       "<Figure size 432x288 with 1 Axes>"
      ]
     },
     "metadata": {
      "needs_background": "light"
     },
     "output_type": "display_data"
    }
   ],
   "source": [
    "# Add the linear regression equation and line to plot\n",
    "x_values = s_lat\n",
    "y_values = sou_hem_df['Wind Speed']\n",
    "\n",
    "(slope, intercept, rvalue, pvalue, stderr) = linregress(x_values, y_values)\n",
    "regress_values = x_values * slope + intercept\n",
    "\n",
    "line_eq = \"y = \" + str(round(slope,2)) + \"x + \" + str(round(intercept,2))\n",
    "\n",
    "plt.scatter(x_values,y_values)\n",
    "plt.plot(x_values,regress_values,\"r-\")\n",
    "plt.annotate(line_eq,(6,10),fontsize=15,color=\"red\")\n",
    "\n",
    "# Set a Title and labels\n",
    "plt.title(\"Southern Hemisphere - Wind Speed (mph) vs Latitude Linear Regression \" + date)\n",
    "plt.xlabel(\"Latitude\")\n",
    "plt.ylabel(\"Wind Speed\")\n",
    "\n",
    "plt.savefig(\"Images/N_WindSpeed_vs_Lat_with_line_plot.png\")\n",
    "\n",
    "plt.show()"
   ]
  },
  {
   "cell_type": "code",
   "execution_count": 71,
   "metadata": {},
   "outputs": [
    {
     "name": "stdout",
     "output_type": "stream",
     "text": [
      "The r-value: is:  -0.05299652305746697\n"
     ]
    }
   ],
   "source": [
    "print(\"The r-value: is: \", rvalue)"
   ]
  }
 ],
 "metadata": {
  "anaconda-cloud": {},
  "kernel_info": {
   "name": "python3"
  },
  "kernelspec": {
   "display_name": "Python 3",
   "language": "python",
   "name": "python3"
  },
  "language_info": {
   "codemirror_mode": {
    "name": "ipython",
    "version": 3
   },
   "file_extension": ".py",
   "mimetype": "text/x-python",
   "name": "python",
   "nbconvert_exporter": "python",
   "pygments_lexer": "ipython3",
   "version": "3.8.5"
  },
  "latex_envs": {
   "LaTeX_envs_menu_present": true,
   "autoclose": false,
   "autocomplete": true,
   "bibliofile": "biblio.bib",
   "cite_by": "apalike",
   "current_citInitial": 1,
   "eqLabelWithNumbers": true,
   "eqNumInitial": 1,
   "hotkeys": {
    "equation": "Ctrl-E",
    "itemize": "Ctrl-I"
   },
   "labels_anchors": false,
   "latex_user_defs": false,
   "report_style_numbering": false,
   "user_envs_cfg": false
  },
  "nteract": {
   "version": "0.12.3"
  }
 },
 "nbformat": 4,
 "nbformat_minor": 2
}
